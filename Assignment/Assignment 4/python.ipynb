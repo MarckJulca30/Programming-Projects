{
 "cells": [
  {
   "cell_type": "markdown",
   "metadata": {},
   "source": [
    "## Part 1: Heterogenous treatment effects using causal trees and forests"
   ]
  },
  {
   "cell_type": "markdown",
   "metadata": {},
   "source": [
    "1.1 Load the data"
   ]
  },
  {
   "cell_type": "code",
   "execution_count": 1,
   "metadata": {},
   "outputs": [
    {
     "data": {
      "text/html": [
       "<div>\n",
       "<style scoped>\n",
       "    .dataframe tbody tr th:only-of-type {\n",
       "        vertical-align: middle;\n",
       "    }\n",
       "\n",
       "    .dataframe tbody tr th {\n",
       "        vertical-align: top;\n",
       "    }\n",
       "\n",
       "    .dataframe thead th {\n",
       "        text-align: right;\n",
       "    }\n",
       "</style>\n",
       "<table border=\"1\" class=\"dataframe\">\n",
       "  <thead>\n",
       "    <tr style=\"text-align: right;\">\n",
       "      <th></th>\n",
       "      <th>treat</th>\n",
       "      <th>age</th>\n",
       "      <th>educ</th>\n",
       "      <th>black</th>\n",
       "      <th>hisp</th>\n",
       "      <th>marr</th>\n",
       "      <th>nodegree</th>\n",
       "      <th>re74</th>\n",
       "      <th>re75</th>\n",
       "      <th>re78</th>\n",
       "    </tr>\n",
       "  </thead>\n",
       "  <tbody>\n",
       "    <tr>\n",
       "      <th>0</th>\n",
       "      <td>1</td>\n",
       "      <td>37</td>\n",
       "      <td>11</td>\n",
       "      <td>1</td>\n",
       "      <td>0</td>\n",
       "      <td>1</td>\n",
       "      <td>1</td>\n",
       "      <td>0.0</td>\n",
       "      <td>0.0</td>\n",
       "      <td>9930.045898</td>\n",
       "    </tr>\n",
       "    <tr>\n",
       "      <th>1</th>\n",
       "      <td>1</td>\n",
       "      <td>22</td>\n",
       "      <td>9</td>\n",
       "      <td>0</td>\n",
       "      <td>1</td>\n",
       "      <td>0</td>\n",
       "      <td>1</td>\n",
       "      <td>0.0</td>\n",
       "      <td>0.0</td>\n",
       "      <td>3595.894043</td>\n",
       "    </tr>\n",
       "    <tr>\n",
       "      <th>2</th>\n",
       "      <td>1</td>\n",
       "      <td>30</td>\n",
       "      <td>12</td>\n",
       "      <td>1</td>\n",
       "      <td>0</td>\n",
       "      <td>0</td>\n",
       "      <td>0</td>\n",
       "      <td>0.0</td>\n",
       "      <td>0.0</td>\n",
       "      <td>24909.449219</td>\n",
       "    </tr>\n",
       "    <tr>\n",
       "      <th>3</th>\n",
       "      <td>1</td>\n",
       "      <td>27</td>\n",
       "      <td>11</td>\n",
       "      <td>1</td>\n",
       "      <td>0</td>\n",
       "      <td>0</td>\n",
       "      <td>1</td>\n",
       "      <td>0.0</td>\n",
       "      <td>0.0</td>\n",
       "      <td>7506.145996</td>\n",
       "    </tr>\n",
       "    <tr>\n",
       "      <th>4</th>\n",
       "      <td>1</td>\n",
       "      <td>33</td>\n",
       "      <td>8</td>\n",
       "      <td>1</td>\n",
       "      <td>0</td>\n",
       "      <td>0</td>\n",
       "      <td>1</td>\n",
       "      <td>0.0</td>\n",
       "      <td>0.0</td>\n",
       "      <td>289.789886</td>\n",
       "    </tr>\n",
       "  </tbody>\n",
       "</table>\n",
       "</div>"
      ],
      "text/plain": [
       "   treat  age  educ  black  hisp  marr  nodegree  re74  re75          re78\n",
       "0      1   37    11      1     0     1         1   0.0   0.0   9930.045898\n",
       "1      1   22     9      0     1     0         1   0.0   0.0   3595.894043\n",
       "2      1   30    12      1     0     0         0   0.0   0.0  24909.449219\n",
       "3      1   27    11      1     0     0         1   0.0   0.0   7506.145996\n",
       "4      1   33     8      1     0     0         1   0.0   0.0    289.789886"
      ]
     },
     "execution_count": 1,
     "metadata": {},
     "output_type": "execute_result"
    }
   ],
   "source": [
    "import pandas as pd \n",
    "import numpy as np\n",
    "\n",
    "data = pd.read_csv('../data/experimental/experimental_control.csv')\n",
    "data.head()"
   ]
  },
  {
   "cell_type": "markdown",
   "metadata": {},
   "source": [
    "1.2 Find the ATE"
   ]
  },
  {
   "cell_type": "code",
   "execution_count": 2,
   "metadata": {},
   "outputs": [
    {
     "data": {
      "text/html": [
       "<table class=\"simpletable\">\n",
       "<tr>\n",
       "      <td></td>         <th>coef</th>     <th>std err</th>      <th>t</th>      <th>P>|t|</th>  <th>[0.025</th>    <th>0.975]</th>  \n",
       "</tr>\n",
       "<tr>\n",
       "  <th>Intercept</th> <td> 4554.8011</td> <td>  408.046</td> <td>   11.162</td> <td> 0.000</td> <td> 3752.855</td> <td> 5356.747</td>\n",
       "</tr>\n",
       "<tr>\n",
       "  <th>treat</th>     <td> 1794.3424</td> <td>  632.853</td> <td>    2.835</td> <td> 0.005</td> <td>  550.574</td> <td> 3038.110</td>\n",
       "</tr>\n",
       "</table>"
      ],
      "text/latex": [
       "\\begin{center}\n",
       "\\begin{tabular}{lcccccc}\n",
       "\\toprule\n",
       "                   & \\textbf{coef} & \\textbf{std err} & \\textbf{t} & \\textbf{P$> |$t$|$} & \\textbf{[0.025} & \\textbf{0.975]}  \\\\\n",
       "\\midrule\n",
       "\\textbf{Intercept} &    4554.8011  &      408.046     &    11.162  &         0.000        &     3752.855    &     5356.747     \\\\\n",
       "\\textbf{treat}     &    1794.3424  &      632.853     &     2.835  &         0.005        &      550.574    &     3038.110     \\\\\n",
       "\\bottomrule\n",
       "\\end{tabular}\n",
       "\\end{center}"
      ],
      "text/plain": [
       "<class 'statsmodels.iolib.table.SimpleTable'>"
      ]
     },
     "execution_count": 2,
     "metadata": {},
     "output_type": "execute_result"
    }
   ],
   "source": [
    "import statsmodels.formula.api as smf\n",
    "\n",
    "smf.ols('re78 ~ treat', data).fit().summary().tables[1]\n"
   ]
  },
  {
   "cell_type": "markdown",
   "metadata": {},
   "source": [
    "Participation in the National Supported Work Demonstration Job Training Program increases real earnings by $1 794 on average."
   ]
  },
  {
   "cell_type": "markdown",
   "metadata": {},
   "source": [
    "1.3 Heterogenous effects with causal trees"
   ]
  },
  {
   "cell_type": "code",
   "execution_count": 3,
   "metadata": {},
   "outputs": [],
   "source": [
    "X = [x for x in data.columns if x != 're78' and x !='treat']"
   ]
  },
  {
   "cell_type": "code",
   "execution_count": 4,
   "metadata": {},
   "outputs": [],
   "source": [
    "from econml.dml import CausalForestDML\n",
    "\n",
    "tree_model = CausalForestDML(n_estimators=1, subforest_size=1, inference=False, max_depth=3, random_state = 123)\n",
    "tree_model = tree_model.fit(Y=data['re78'], X=data[X], T=data['treat'])"
   ]
  },
  {
   "cell_type": "code",
   "execution_count": 5,
   "metadata": {},
   "outputs": [
    {
     "data": {
      "image/png": "[encoded data removed]",
      "text/plain": [
       "<Figure size 640x480 with 1 Axes>"
      ]
     },
     "metadata": {},
     "output_type": "display_data"
    }
   ],
   "source": [
    "import matplotlib.pyplot as plt\n",
    "from econml.cate_interpreter import SingleTreeCateInterpreter\n",
    "%matplotlib inline\n",
    "\n",
    "intrp = SingleTreeCateInterpreter(max_depth=2).interpret(tree_model, data[X])\n",
    "intrp.plot(feature_names=X)\n",
    "plt.show()"
   ]
  },
  {
   "cell_type": "markdown",
   "metadata": {},
   "source": [
    "The interpretation is subject to the depth your tree ends up with. As specified in the issue, we would stick to what we saw in class (that is, an arbitrarily small tree). However, do not forget that a proper way to tune hyperparameters is Cross-Validation. \n",
    "\n",
    "In our case, the treatment is more effective on individuals with more than 11.5 years of education and income of $6 617 or less. For those individuals, the treatment increases their real earnings by $4 186 on average."
   ]
  },
  {
   "cell_type": "markdown",
   "metadata": {},
   "source": [
    "1.4 Heterogenous effects with causal forests"
   ]
  },
  {
   "cell_type": "code",
   "execution_count": 6,
   "metadata": {},
   "outputs": [],
   "source": [
    "forest_model = CausalForestDML(max_depth=3, random_state = 123)\n",
    "forest_model = forest_model.fit(Y=data['re78'], X=data[X], T=data['treat'])"
   ]
  },
  {
   "cell_type": "code",
   "execution_count": 7,
   "metadata": {},
   "outputs": [
    {
     "data": {
      "text/html": [
       "<div>\n",
       "<style scoped>\n",
       "    .dataframe tbody tr th:only-of-type {\n",
       "        vertical-align: middle;\n",
       "    }\n",
       "\n",
       "    .dataframe tbody tr th {\n",
       "        vertical-align: top;\n",
       "    }\n",
       "\n",
       "    .dataframe thead th {\n",
       "        text-align: right;\n",
       "    }\n",
       "</style>\n",
       "<table border=\"1\" class=\"dataframe\">\n",
       "  <thead>\n",
       "    <tr style=\"text-align: right;\">\n",
       "      <th></th>\n",
       "      <th>importance</th>\n",
       "    </tr>\n",
       "  </thead>\n",
       "  <tbody>\n",
       "    <tr>\n",
       "      <th>age</th>\n",
       "      <td>0.283512</td>\n",
       "    </tr>\n",
       "    <tr>\n",
       "      <th>educ</th>\n",
       "      <td>0.222320</td>\n",
       "    </tr>\n",
       "    <tr>\n",
       "      <th>re74</th>\n",
       "      <td>0.202884</td>\n",
       "    </tr>\n",
       "    <tr>\n",
       "      <th>re75</th>\n",
       "      <td>0.144400</td>\n",
       "    </tr>\n",
       "    <tr>\n",
       "      <th>black</th>\n",
       "      <td>0.087653</td>\n",
       "    </tr>\n",
       "    <tr>\n",
       "      <th>marr</th>\n",
       "      <td>0.026820</td>\n",
       "    </tr>\n",
       "    <tr>\n",
       "      <th>hisp</th>\n",
       "      <td>0.020174</td>\n",
       "    </tr>\n",
       "    <tr>\n",
       "      <th>nodegree</th>\n",
       "      <td>0.012237</td>\n",
       "    </tr>\n",
       "  </tbody>\n",
       "</table>\n",
       "</div>"
      ],
      "text/plain": [
       "          importance\n",
       "age         0.283512\n",
       "educ        0.222320\n",
       "re74        0.202884\n",
       "re75        0.144400\n",
       "black       0.087653\n",
       "marr        0.026820\n",
       "hisp        0.020174\n",
       "nodegree    0.012237"
      ]
     },
     "execution_count": 7,
     "metadata": {},
     "output_type": "execute_result"
    }
   ],
   "source": [
    "feature_imp = pd.DataFrame(\n",
    "    {'importance':forest_model.feature_importances_},\n",
    "    index=X)\n",
    "feature_imp.sort_values(by='importance', ascending=False)"
   ]
  },
  {
   "cell_type": "code",
   "execution_count": 8,
   "metadata": {},
   "outputs": [
    {
     "data": {
      "image/png": "[encoded data removed]",
      "text/plain": [
       "<Figure size 640x480 with 1 Axes>"
      ]
     },
     "metadata": {},
     "output_type": "display_data"
    }
   ],
   "source": [
    "import matplotlib.pyplot as plt\n",
    "from econml.cate_interpreter import SingleTreeCateInterpreter\n",
    "%matplotlib inline\n",
    "\n",
    "intrp = SingleTreeCateInterpreter(max_depth=2).interpret(forest_model, data[X])\n",
    "intrp.plot(feature_names=X)\n",
    "plt.show()"
   ]
  },
  {
   "cell_type": "markdown",
   "metadata": {},
   "source": [
    "1.5 Plot heterogenous effects"
   ]
  },
  {
   "cell_type": "code",
   "execution_count": 9,
   "metadata": {},
   "outputs": [
    {
     "data": {
      "image/png": "[encoded data removed]",
      "text/plain": [
       "<Figure size 640x480 with 1 Axes>"
      ]
     },
     "metadata": {},
     "output_type": "display_data"
    }
   ],
   "source": [
    "data[\"predicted_effect\"] = forest_model.effect(data[X])\n",
    "predicted_effect_bins = data.groupby(\"age\")[\"predicted_effect\"].mean()\n",
    "plt.plot(predicted_effect_bins.index, predicted_effect_bins.values)\n",
    "\n",
    "plt.show()"
   ]
  },
  {
   "cell_type": "markdown",
   "metadata": {},
   "source": [
    "## Part 2: Double/Debiased machine learning in obsevational data"
   ]
  },
  {
   "cell_type": "markdown",
   "metadata": {},
   "source": [
    "2.1 Load the data"
   ]
  },
  {
   "cell_type": "code",
   "execution_count": 10,
   "metadata": {},
   "outputs": [
    {
     "data": {
      "text/html": [
       "<div>\n",
       "<style scoped>\n",
       "    .dataframe tbody tr th:only-of-type {\n",
       "        vertical-align: middle;\n",
       "    }\n",
       "\n",
       "    .dataframe tbody tr th {\n",
       "        vertical-align: top;\n",
       "    }\n",
       "\n",
       "    .dataframe thead th {\n",
       "        text-align: right;\n",
       "    }\n",
       "</style>\n",
       "<table border=\"1\" class=\"dataframe\">\n",
       "  <thead>\n",
       "    <tr style=\"text-align: right;\">\n",
       "      <th></th>\n",
       "      <th>treat</th>\n",
       "      <th>age</th>\n",
       "      <th>educ</th>\n",
       "      <th>black</th>\n",
       "      <th>hisp</th>\n",
       "      <th>marr</th>\n",
       "      <th>nodegree</th>\n",
       "      <th>re74</th>\n",
       "      <th>re75</th>\n",
       "      <th>re78</th>\n",
       "      <th>agesq</th>\n",
       "      <th>agecube</th>\n",
       "      <th>educsq</th>\n",
       "      <th>u74</th>\n",
       "      <th>u75</th>\n",
       "      <th>interaction1</th>\n",
       "      <th>re74sq</th>\n",
       "      <th>re75sq</th>\n",
       "    </tr>\n",
       "  </thead>\n",
       "  <tbody>\n",
       "    <tr>\n",
       "      <th>0</th>\n",
       "      <td>0</td>\n",
       "      <td>45</td>\n",
       "      <td>11</td>\n",
       "      <td>0</td>\n",
       "      <td>0</td>\n",
       "      <td>1</td>\n",
       "      <td>1</td>\n",
       "      <td>21.516670</td>\n",
       "      <td>25.243551</td>\n",
       "      <td>25.564670</td>\n",
       "      <td>2025</td>\n",
       "      <td>91125</td>\n",
       "      <td>121</td>\n",
       "      <td>0</td>\n",
       "      <td>0</td>\n",
       "      <td>236.683369</td>\n",
       "      <td>462.967085</td>\n",
       "      <td>637.236856</td>\n",
       "    </tr>\n",
       "    <tr>\n",
       "      <th>1</th>\n",
       "      <td>0</td>\n",
       "      <td>21</td>\n",
       "      <td>14</td>\n",
       "      <td>0</td>\n",
       "      <td>0</td>\n",
       "      <td>0</td>\n",
       "      <td>0</td>\n",
       "      <td>3.175971</td>\n",
       "      <td>5.852565</td>\n",
       "      <td>13.496080</td>\n",
       "      <td>441</td>\n",
       "      <td>9261</td>\n",
       "      <td>196</td>\n",
       "      <td>0</td>\n",
       "      <td>0</td>\n",
       "      <td>44.463593</td>\n",
       "      <td>10.086791</td>\n",
       "      <td>34.252516</td>\n",
       "    </tr>\n",
       "    <tr>\n",
       "      <th>2</th>\n",
       "      <td>0</td>\n",
       "      <td>38</td>\n",
       "      <td>12</td>\n",
       "      <td>0</td>\n",
       "      <td>0</td>\n",
       "      <td>1</td>\n",
       "      <td>0</td>\n",
       "      <td>23.039020</td>\n",
       "      <td>25.130760</td>\n",
       "      <td>25.564670</td>\n",
       "      <td>1444</td>\n",
       "      <td>54872</td>\n",
       "      <td>144</td>\n",
       "      <td>0</td>\n",
       "      <td>0</td>\n",
       "      <td>276.468234</td>\n",
       "      <td>530.796421</td>\n",
       "      <td>631.555086</td>\n",
       "    </tr>\n",
       "    <tr>\n",
       "      <th>3</th>\n",
       "      <td>0</td>\n",
       "      <td>48</td>\n",
       "      <td>6</td>\n",
       "      <td>0</td>\n",
       "      <td>0</td>\n",
       "      <td>1</td>\n",
       "      <td>1</td>\n",
       "      <td>24.994369</td>\n",
       "      <td>25.243551</td>\n",
       "      <td>25.564670</td>\n",
       "      <td>2304</td>\n",
       "      <td>110592</td>\n",
       "      <td>36</td>\n",
       "      <td>0</td>\n",
       "      <td>0</td>\n",
       "      <td>149.966215</td>\n",
       "      <td>624.718489</td>\n",
       "      <td>637.236856</td>\n",
       "    </tr>\n",
       "    <tr>\n",
       "      <th>4</th>\n",
       "      <td>0</td>\n",
       "      <td>18</td>\n",
       "      <td>8</td>\n",
       "      <td>0</td>\n",
       "      <td>0</td>\n",
       "      <td>1</td>\n",
       "      <td>1</td>\n",
       "      <td>1.669295</td>\n",
       "      <td>10.727610</td>\n",
       "      <td>9.860869</td>\n",
       "      <td>324</td>\n",
       "      <td>5832</td>\n",
       "      <td>64</td>\n",
       "      <td>0</td>\n",
       "      <td>0</td>\n",
       "      <td>13.354360</td>\n",
       "      <td>2.786546</td>\n",
       "      <td>115.081624</td>\n",
       "    </tr>\n",
       "  </tbody>\n",
       "</table>\n",
       "</div>"
      ],
      "text/plain": [
       "   treat  age  educ  black  hisp  marr  nodegree       re74       re75  \\\n",
       "0      0   45    11      0     0     1         1  21.516670  25.243551   \n",
       "1      0   21    14      0     0     0         0   3.175971   5.852565   \n",
       "2      0   38    12      0     0     1         0  23.039020  25.130760   \n",
       "3      0   48     6      0     0     1         1  24.994369  25.243551   \n",
       "4      0   18     8      0     0     1         1   1.669295  10.727610   \n",
       "\n",
       "        re78  agesq  agecube  educsq  u74  u75  interaction1      re74sq  \\\n",
       "0  25.564670   2025    91125     121    0    0    236.683369  462.967085   \n",
       "1  13.496080    441     9261     196    0    0     44.463593   10.086791   \n",
       "2  25.564670   1444    54872     144    0    0    276.468234  530.796421   \n",
       "3  25.564670   2304   110592      36    0    0    149.966215  624.718489   \n",
       "4   9.860869    324     5832      64    0    0     13.354360    2.786546   \n",
       "\n",
       "       re75sq  \n",
       "0  637.236856  \n",
       "1   34.252516  \n",
       "2  631.555086  \n",
       "3  637.236856  \n",
       "4  115.081624  "
      ]
     },
     "execution_count": 10,
     "metadata": {},
     "output_type": "execute_result"
    }
   ],
   "source": [
    "data = pd.read_csv('../data/observational/biased_control.csv')\n",
    "data.head()"
   ]
  },
  {
   "cell_type": "markdown",
   "metadata": {},
   "source": [
    "2.2 Group comparisons"
   ]
  },
  {
   "cell_type": "code",
   "execution_count": 11,
   "metadata": {},
   "outputs": [],
   "source": [
    "control = data[data['treat']==0]\n",
    "treated = data[data['treat']==1]"
   ]
  },
  {
   "cell_type": "code",
   "execution_count": 12,
   "metadata": {},
   "outputs": [
    {
     "data": {
      "text/html": [
       "<div>\n",
       "<style scoped>\n",
       "    .dataframe tbody tr th:only-of-type {\n",
       "        vertical-align: middle;\n",
       "    }\n",
       "\n",
       "    .dataframe tbody tr th {\n",
       "        vertical-align: top;\n",
       "    }\n",
       "\n",
       "    .dataframe thead th {\n",
       "        text-align: right;\n",
       "    }\n",
       "</style>\n",
       "<table border=\"1\" class=\"dataframe\">\n",
       "  <thead>\n",
       "    <tr style=\"text-align: right;\">\n",
       "      <th></th>\n",
       "      <th>treat</th>\n",
       "      <th>age</th>\n",
       "      <th>educ</th>\n",
       "      <th>black</th>\n",
       "      <th>hisp</th>\n",
       "      <th>marr</th>\n",
       "      <th>nodegree</th>\n",
       "      <th>re74</th>\n",
       "      <th>re75</th>\n",
       "      <th>re78</th>\n",
       "      <th>agesq</th>\n",
       "      <th>agecube</th>\n",
       "      <th>educsq</th>\n",
       "      <th>u74</th>\n",
       "      <th>u75</th>\n",
       "      <th>interaction1</th>\n",
       "      <th>re74sq</th>\n",
       "      <th>re75sq</th>\n",
       "    </tr>\n",
       "  </thead>\n",
       "  <tbody>\n",
       "    <tr>\n",
       "      <th>count</th>\n",
       "      <td>15992.0</td>\n",
       "      <td>15992.000000</td>\n",
       "      <td>15992.000000</td>\n",
       "      <td>15992.000000</td>\n",
       "      <td>15992.000000</td>\n",
       "      <td>15992.000000</td>\n",
       "      <td>15992.000000</td>\n",
       "      <td>15992.000000</td>\n",
       "      <td>15992.000000</td>\n",
       "      <td>15992.000000</td>\n",
       "      <td>15992.000000</td>\n",
       "      <td>15992.000000</td>\n",
       "      <td>15992.000000</td>\n",
       "      <td>15992.000000</td>\n",
       "      <td>15992.000000</td>\n",
       "      <td>15992.000000</td>\n",
       "      <td>15992.000000</td>\n",
       "      <td>15992.000000</td>\n",
       "    </tr>\n",
       "    <tr>\n",
       "      <th>mean</th>\n",
       "      <td>0.0</td>\n",
       "      <td>33.225238</td>\n",
       "      <td>12.027514</td>\n",
       "      <td>0.073537</td>\n",
       "      <td>0.072036</td>\n",
       "      <td>0.711731</td>\n",
       "      <td>0.295835</td>\n",
       "      <td>14.016800</td>\n",
       "      <td>13.650804</td>\n",
       "      <td>14.846660</td>\n",
       "      <td>1225.905578</td>\n",
       "      <td>49305.853302</td>\n",
       "      <td>152.902326</td>\n",
       "      <td>0.119622</td>\n",
       "      <td>0.109305</td>\n",
       "      <td>171.147640</td>\n",
       "      <td>288.045960</td>\n",
       "      <td>272.279442</td>\n",
       "    </tr>\n",
       "    <tr>\n",
       "      <th>std</th>\n",
       "      <td>0.0</td>\n",
       "      <td>11.045216</td>\n",
       "      <td>2.870846</td>\n",
       "      <td>0.261024</td>\n",
       "      <td>0.258556</td>\n",
       "      <td>0.452971</td>\n",
       "      <td>0.456432</td>\n",
       "      <td>9.569796</td>\n",
       "      <td>9.270403</td>\n",
       "      <td>9.647392</td>\n",
       "      <td>784.738239</td>\n",
       "      <td>45139.009906</td>\n",
       "      <td>67.166329</td>\n",
       "      <td>0.324530</td>\n",
       "      <td>0.312031</td>\n",
       "      <td>129.218820</td>\n",
       "      <td>260.276050</td>\n",
       "      <td>246.906693</td>\n",
       "    </tr>\n",
       "    <tr>\n",
       "      <th>min</th>\n",
       "      <td>0.0</td>\n",
       "      <td>16.000000</td>\n",
       "      <td>0.000000</td>\n",
       "      <td>0.000000</td>\n",
       "      <td>0.000000</td>\n",
       "      <td>0.000000</td>\n",
       "      <td>0.000000</td>\n",
       "      <td>0.000000</td>\n",
       "      <td>0.000000</td>\n",
       "      <td>0.000000</td>\n",
       "      <td>256.000000</td>\n",
       "      <td>4096.000000</td>\n",
       "      <td>0.000000</td>\n",
       "      <td>0.000000</td>\n",
       "      <td>0.000000</td>\n",
       "      <td>0.000000</td>\n",
       "      <td>0.000000</td>\n",
       "      <td>0.000000</td>\n",
       "    </tr>\n",
       "    <tr>\n",
       "      <th>25%</th>\n",
       "      <td>0.0</td>\n",
       "      <td>24.000000</td>\n",
       "      <td>11.000000</td>\n",
       "      <td>0.000000</td>\n",
       "      <td>0.000000</td>\n",
       "      <td>0.000000</td>\n",
       "      <td>0.000000</td>\n",
       "      <td>4.403452</td>\n",
       "      <td>4.398823</td>\n",
       "      <td>5.669298</td>\n",
       "      <td>576.000000</td>\n",
       "      <td>13824.000000</td>\n",
       "      <td>121.000000</td>\n",
       "      <td>0.000000</td>\n",
       "      <td>0.000000</td>\n",
       "      <td>46.875448</td>\n",
       "      <td>19.390396</td>\n",
       "      <td>19.349646</td>\n",
       "    </tr>\n",
       "    <tr>\n",
       "      <th>50%</th>\n",
       "      <td>0.0</td>\n",
       "      <td>31.000000</td>\n",
       "      <td>12.000000</td>\n",
       "      <td>0.000000</td>\n",
       "      <td>0.000000</td>\n",
       "      <td>1.000000</td>\n",
       "      <td>0.000000</td>\n",
       "      <td>15.123580</td>\n",
       "      <td>14.557110</td>\n",
       "      <td>16.421975</td>\n",
       "      <td>961.000000</td>\n",
       "      <td>29791.000000</td>\n",
       "      <td>144.000000</td>\n",
       "      <td>0.000000</td>\n",
       "      <td>0.000000</td>\n",
       "      <td>166.861978</td>\n",
       "      <td>228.722690</td>\n",
       "      <td>211.909462</td>\n",
       "    </tr>\n",
       "    <tr>\n",
       "      <th>75%</th>\n",
       "      <td>0.0</td>\n",
       "      <td>42.000000</td>\n",
       "      <td>13.000000</td>\n",
       "      <td>0.000000</td>\n",
       "      <td>0.000000</td>\n",
       "      <td>1.000000</td>\n",
       "      <td>1.000000</td>\n",
       "      <td>23.584180</td>\n",
       "      <td>22.923737</td>\n",
       "      <td>25.564670</td>\n",
       "      <td>1764.000000</td>\n",
       "      <td>74088.000000</td>\n",
       "      <td>169.000000</td>\n",
       "      <td>0.000000</td>\n",
       "      <td>0.000000</td>\n",
       "      <td>284.485523</td>\n",
       "      <td>556.213532</td>\n",
       "      <td>525.497710</td>\n",
       "    </tr>\n",
       "    <tr>\n",
       "      <th>max</th>\n",
       "      <td>0.0</td>\n",
       "      <td>55.000000</td>\n",
       "      <td>18.000000</td>\n",
       "      <td>1.000000</td>\n",
       "      <td>1.000000</td>\n",
       "      <td>1.000000</td>\n",
       "      <td>1.000000</td>\n",
       "      <td>25.862320</td>\n",
       "      <td>25.243551</td>\n",
       "      <td>25.564670</td>\n",
       "      <td>3025.000000</td>\n",
       "      <td>166375.000000</td>\n",
       "      <td>324.000000</td>\n",
       "      <td>1.000000</td>\n",
       "      <td>1.000000</td>\n",
       "      <td>465.521766</td>\n",
       "      <td>668.859612</td>\n",
       "      <td>637.236856</td>\n",
       "    </tr>\n",
       "  </tbody>\n",
       "</table>\n",
       "</div>"
      ],
      "text/plain": [
       "         treat           age          educ         black          hisp  \\\n",
       "count  15992.0  15992.000000  15992.000000  15992.000000  15992.000000   \n",
       "mean       0.0     33.225238     12.027514      0.073537      0.072036   \n",
       "std        0.0     11.045216      2.870846      0.261024      0.258556   \n",
       "min        0.0     16.000000      0.000000      0.000000      0.000000   \n",
       "25%        0.0     24.000000     11.000000      0.000000      0.000000   \n",
       "50%        0.0     31.000000     12.000000      0.000000      0.000000   \n",
       "75%        0.0     42.000000     13.000000      0.000000      0.000000   \n",
       "max        0.0     55.000000     18.000000      1.000000      1.000000   \n",
       "\n",
       "               marr      nodegree          re74          re75          re78  \\\n",
       "count  15992.000000  15992.000000  15992.000000  15992.000000  15992.000000   \n",
       "mean       0.711731      0.295835     14.016800     13.650804     14.846660   \n",
       "std        0.452971      0.456432      9.569796      9.270403      9.647392   \n",
       "min        0.000000      0.000000      0.000000      0.000000      0.000000   \n",
       "25%        0.000000      0.000000      4.403452      4.398823      5.669298   \n",
       "50%        1.000000      0.000000     15.123580     14.557110     16.421975   \n",
       "75%        1.000000      1.000000     23.584180     22.923737     25.564670   \n",
       "max        1.000000      1.000000     25.862320     25.243551     25.564670   \n",
       "\n",
       "              agesq        agecube        educsq           u74           u75  \\\n",
       "count  15992.000000   15992.000000  15992.000000  15992.000000  15992.000000   \n",
       "mean    1225.905578   49305.853302    152.902326      0.119622      0.109305   \n",
       "std      784.738239   45139.009906     67.166329      0.324530      0.312031   \n",
       "min      256.000000    4096.000000      0.000000      0.000000      0.000000   \n",
       "25%      576.000000   13824.000000    121.000000      0.000000      0.000000   \n",
       "50%      961.000000   29791.000000    144.000000      0.000000      0.000000   \n",
       "75%     1764.000000   74088.000000    169.000000      0.000000      0.000000   \n",
       "max     3025.000000  166375.000000    324.000000      1.000000      1.000000   \n",
       "\n",
       "       interaction1        re74sq        re75sq  \n",
       "count  15992.000000  15992.000000  15992.000000  \n",
       "mean     171.147640    288.045960    272.279442  \n",
       "std      129.218820    260.276050    246.906693  \n",
       "min        0.000000      0.000000      0.000000  \n",
       "25%       46.875448     19.390396     19.349646  \n",
       "50%      166.861978    228.722690    211.909462  \n",
       "75%      284.485523    556.213532    525.497710  \n",
       "max      465.521766    668.859612    637.236856  "
      ]
     },
     "execution_count": 12,
     "metadata": {},
     "output_type": "execute_result"
    }
   ],
   "source": [
    "control.describe()"
   ]
  },
  {
   "cell_type": "code",
   "execution_count": 13,
   "metadata": {},
   "outputs": [
    {
     "data": {
      "text/html": [
       "<div>\n",
       "<style scoped>\n",
       "    .dataframe tbody tr th:only-of-type {\n",
       "        vertical-align: middle;\n",
       "    }\n",
       "\n",
       "    .dataframe tbody tr th {\n",
       "        vertical-align: top;\n",
       "    }\n",
       "\n",
       "    .dataframe thead th {\n",
       "        text-align: right;\n",
       "    }\n",
       "</style>\n",
       "<table border=\"1\" class=\"dataframe\">\n",
       "  <thead>\n",
       "    <tr style=\"text-align: right;\">\n",
       "      <th></th>\n",
       "      <th>treat</th>\n",
       "      <th>age</th>\n",
       "      <th>educ</th>\n",
       "      <th>black</th>\n",
       "      <th>hisp</th>\n",
       "      <th>marr</th>\n",
       "      <th>nodegree</th>\n",
       "      <th>re74</th>\n",
       "      <th>re75</th>\n",
       "      <th>re78</th>\n",
       "      <th>agesq</th>\n",
       "      <th>agecube</th>\n",
       "      <th>educsq</th>\n",
       "      <th>u74</th>\n",
       "      <th>u75</th>\n",
       "      <th>interaction1</th>\n",
       "      <th>re74sq</th>\n",
       "      <th>re75sq</th>\n",
       "    </tr>\n",
       "  </thead>\n",
       "  <tbody>\n",
       "    <tr>\n",
       "      <th>count</th>\n",
       "      <td>185.0</td>\n",
       "      <td>185.000000</td>\n",
       "      <td>185.000000</td>\n",
       "      <td>185.000000</td>\n",
       "      <td>185.000000</td>\n",
       "      <td>185.000000</td>\n",
       "      <td>185.000000</td>\n",
       "      <td>185.000000</td>\n",
       "      <td>185.000000</td>\n",
       "      <td>185.000000</td>\n",
       "      <td>185.000000</td>\n",
       "      <td>185.000000</td>\n",
       "      <td>185.000000</td>\n",
       "      <td>185.000000</td>\n",
       "      <td>185.000000</td>\n",
       "      <td>185.000000</td>\n",
       "      <td>185.000000</td>\n",
       "      <td>185.000000</td>\n",
       "    </tr>\n",
       "    <tr>\n",
       "      <th>mean</th>\n",
       "      <td>1.0</td>\n",
       "      <td>25.816216</td>\n",
       "      <td>10.345946</td>\n",
       "      <td>0.843243</td>\n",
       "      <td>0.059459</td>\n",
       "      <td>0.189189</td>\n",
       "      <td>0.708108</td>\n",
       "      <td>2.095574</td>\n",
       "      <td>1.532055</td>\n",
       "      <td>6.349144</td>\n",
       "      <td>717.394595</td>\n",
       "      <td>21554.659459</td>\n",
       "      <td>111.059459</td>\n",
       "      <td>0.708108</td>\n",
       "      <td>0.600000</td>\n",
       "      <td>22.898726</td>\n",
       "      <td>28.141412</td>\n",
       "      <td>12.654750</td>\n",
       "    </tr>\n",
       "    <tr>\n",
       "      <th>std</th>\n",
       "      <td>0.0</td>\n",
       "      <td>7.155019</td>\n",
       "      <td>2.010650</td>\n",
       "      <td>0.364558</td>\n",
       "      <td>0.237124</td>\n",
       "      <td>0.392722</td>\n",
       "      <td>0.455867</td>\n",
       "      <td>4.886620</td>\n",
       "      <td>3.219251</td>\n",
       "      <td>7.867402</td>\n",
       "      <td>431.251706</td>\n",
       "      <td>20964.707513</td>\n",
       "      <td>39.303885</td>\n",
       "      <td>0.455867</td>\n",
       "      <td>0.491227</td>\n",
       "      <td>57.393970</td>\n",
       "      <td>114.103274</td>\n",
       "      <td>56.033667</td>\n",
       "    </tr>\n",
       "    <tr>\n",
       "      <th>min</th>\n",
       "      <td>1.0</td>\n",
       "      <td>17.000000</td>\n",
       "      <td>4.000000</td>\n",
       "      <td>0.000000</td>\n",
       "      <td>0.000000</td>\n",
       "      <td>0.000000</td>\n",
       "      <td>0.000000</td>\n",
       "      <td>0.000000</td>\n",
       "      <td>0.000000</td>\n",
       "      <td>0.000000</td>\n",
       "      <td>289.000000</td>\n",
       "      <td>4913.000000</td>\n",
       "      <td>16.000000</td>\n",
       "      <td>0.000000</td>\n",
       "      <td>0.000000</td>\n",
       "      <td>0.000000</td>\n",
       "      <td>0.000000</td>\n",
       "      <td>0.000000</td>\n",
       "    </tr>\n",
       "    <tr>\n",
       "      <th>25%</th>\n",
       "      <td>1.0</td>\n",
       "      <td>20.000000</td>\n",
       "      <td>9.000000</td>\n",
       "      <td>1.000000</td>\n",
       "      <td>0.000000</td>\n",
       "      <td>0.000000</td>\n",
       "      <td>0.000000</td>\n",
       "      <td>0.000000</td>\n",
       "      <td>0.000000</td>\n",
       "      <td>0.485230</td>\n",
       "      <td>400.000000</td>\n",
       "      <td>8000.000000</td>\n",
       "      <td>81.000000</td>\n",
       "      <td>0.000000</td>\n",
       "      <td>0.000000</td>\n",
       "      <td>0.000000</td>\n",
       "      <td>0.000000</td>\n",
       "      <td>0.000000</td>\n",
       "    </tr>\n",
       "    <tr>\n",
       "      <th>50%</th>\n",
       "      <td>1.0</td>\n",
       "      <td>25.000000</td>\n",
       "      <td>11.000000</td>\n",
       "      <td>1.000000</td>\n",
       "      <td>0.000000</td>\n",
       "      <td>0.000000</td>\n",
       "      <td>1.000000</td>\n",
       "      <td>0.000000</td>\n",
       "      <td>0.000000</td>\n",
       "      <td>4.232309</td>\n",
       "      <td>625.000000</td>\n",
       "      <td>15625.000000</td>\n",
       "      <td>121.000000</td>\n",
       "      <td>1.000000</td>\n",
       "      <td>1.000000</td>\n",
       "      <td>0.000000</td>\n",
       "      <td>0.000000</td>\n",
       "      <td>0.000000</td>\n",
       "    </tr>\n",
       "    <tr>\n",
       "      <th>75%</th>\n",
       "      <td>1.0</td>\n",
       "      <td>29.000000</td>\n",
       "      <td>12.000000</td>\n",
       "      <td>1.000000</td>\n",
       "      <td>0.000000</td>\n",
       "      <td>0.000000</td>\n",
       "      <td>1.000000</td>\n",
       "      <td>1.291468</td>\n",
       "      <td>1.817284</td>\n",
       "      <td>9.642999</td>\n",
       "      <td>841.000000</td>\n",
       "      <td>24389.000000</td>\n",
       "      <td>144.000000</td>\n",
       "      <td>1.000000</td>\n",
       "      <td>1.000000</td>\n",
       "      <td>12.914680</td>\n",
       "      <td>1.667890</td>\n",
       "      <td>3.302521</td>\n",
       "    </tr>\n",
       "    <tr>\n",
       "      <th>max</th>\n",
       "      <td>1.0</td>\n",
       "      <td>48.000000</td>\n",
       "      <td>16.000000</td>\n",
       "      <td>1.000000</td>\n",
       "      <td>1.000000</td>\n",
       "      <td>1.000000</td>\n",
       "      <td>1.000000</td>\n",
       "      <td>35.040070</td>\n",
       "      <td>25.142240</td>\n",
       "      <td>60.307930</td>\n",
       "      <td>2304.000000</td>\n",
       "      <td>110592.000000</td>\n",
       "      <td>256.000000</td>\n",
       "      <td>1.000000</td>\n",
       "      <td>1.000000</td>\n",
       "      <td>490.560984</td>\n",
       "      <td>1227.806528</td>\n",
       "      <td>632.132244</td>\n",
       "    </tr>\n",
       "  </tbody>\n",
       "</table>\n",
       "</div>"
      ],
      "text/plain": [
       "       treat         age        educ       black        hisp        marr  \\\n",
       "count  185.0  185.000000  185.000000  185.000000  185.000000  185.000000   \n",
       "mean     1.0   25.816216   10.345946    0.843243    0.059459    0.189189   \n",
       "std      0.0    7.155019    2.010650    0.364558    0.237124    0.392722   \n",
       "min      1.0   17.000000    4.000000    0.000000    0.000000    0.000000   \n",
       "25%      1.0   20.000000    9.000000    1.000000    0.000000    0.000000   \n",
       "50%      1.0   25.000000   11.000000    1.000000    0.000000    0.000000   \n",
       "75%      1.0   29.000000   12.000000    1.000000    0.000000    0.000000   \n",
       "max      1.0   48.000000   16.000000    1.000000    1.000000    1.000000   \n",
       "\n",
       "         nodegree        re74        re75        re78        agesq  \\\n",
       "count  185.000000  185.000000  185.000000  185.000000   185.000000   \n",
       "mean     0.708108    2.095574    1.532055    6.349144   717.394595   \n",
       "std      0.455867    4.886620    3.219251    7.867402   431.251706   \n",
       "min      0.000000    0.000000    0.000000    0.000000   289.000000   \n",
       "25%      0.000000    0.000000    0.000000    0.485230   400.000000   \n",
       "50%      1.000000    0.000000    0.000000    4.232309   625.000000   \n",
       "75%      1.000000    1.291468    1.817284    9.642999   841.000000   \n",
       "max      1.000000   35.040070   25.142240   60.307930  2304.000000   \n",
       "\n",
       "             agecube      educsq         u74         u75  interaction1  \\\n",
       "count     185.000000  185.000000  185.000000  185.000000    185.000000   \n",
       "mean    21554.659459  111.059459    0.708108    0.600000     22.898726   \n",
       "std     20964.707513   39.303885    0.455867    0.491227     57.393970   \n",
       "min      4913.000000   16.000000    0.000000    0.000000      0.000000   \n",
       "25%      8000.000000   81.000000    0.000000    0.000000      0.000000   \n",
       "50%     15625.000000  121.000000    1.000000    1.000000      0.000000   \n",
       "75%     24389.000000  144.000000    1.000000    1.000000     12.914680   \n",
       "max    110592.000000  256.000000    1.000000    1.000000    490.560984   \n",
       "\n",
       "            re74sq      re75sq  \n",
       "count   185.000000  185.000000  \n",
       "mean     28.141412   12.654750  \n",
       "std     114.103274   56.033667  \n",
       "min       0.000000    0.000000  \n",
       "25%       0.000000    0.000000  \n",
       "50%       0.000000    0.000000  \n",
       "75%       1.667890    3.302521  \n",
       "max    1227.806528  632.132244  "
      ]
     },
     "execution_count": 13,
     "metadata": {},
     "output_type": "execute_result"
    }
   ],
   "source": [
    "treated.describe()"
   ]
  },
  {
   "cell_type": "markdown",
   "metadata": {},
   "source": [
    "The first thing to notice in the observational dataset is that the treated are significantly less than the controls. Among the features, age shows a clear difference of nearly 10 years on average between groups. The same can be said from de real income, with an average difference between groups of around $8 000 dollars. And so on.\n",
    "\n",
    "As stated in the issue, the treatment and the control groups are not comparable. Therefore, these differences may be significant."
   ]
  },
  {
   "cell_type": "markdown",
   "metadata": {},
   "source": [
    "2.3 Compute the SMD"
   ]
  },
  {
   "cell_type": "code",
   "execution_count": 14,
   "metadata": {},
   "outputs": [
    {
     "data": {
      "text/html": [
       "<table class=\"simpletable\">\n",
       "<tr>\n",
       "      <td></td>         <th>coef</th>     <th>std err</th>      <th>t</th>      <th>P>|t|</th>  <th>[0.025</th>    <th>0.975]</th>  \n",
       "</tr>\n",
       "<tr>\n",
       "  <th>Intercept</th> <td>   14.8467</td> <td>    0.076</td> <td>  194.984</td> <td> 0.000</td> <td>   14.697</td> <td>   14.996</td>\n",
       "</tr>\n",
       "<tr>\n",
       "  <th>treat</th>     <td>   -8.4975</td> <td>    0.712</td> <td>  -11.934</td> <td> 0.000</td> <td>   -9.893</td> <td>   -7.102</td>\n",
       "</tr>\n",
       "</table>"
      ],
      "text/latex": [
       "\\begin{center}\n",
       "\\begin{tabular}{lcccccc}\n",
       "\\toprule\n",
       "                   & \\textbf{coef} & \\textbf{std err} & \\textbf{t} & \\textbf{P$> |$t$|$} & \\textbf{[0.025} & \\textbf{0.975]}  \\\\\n",
       "\\midrule\n",
       "\\textbf{Intercept} &      14.8467  &        0.076     &   194.984  &         0.000        &       14.697    &       14.996     \\\\\n",
       "\\textbf{treat}     &      -8.4975  &        0.712     &   -11.934  &         0.000        &       -9.893    &       -7.102     \\\\\n",
       "\\bottomrule\n",
       "\\end{tabular}\n",
       "\\end{center}"
      ],
      "text/plain": [
       "<class 'statsmodels.iolib.table.SimpleTable'>"
      ]
     },
     "execution_count": 14,
     "metadata": {},
     "output_type": "execute_result"
    }
   ],
   "source": [
    "smf.ols('re78 ~ treat', data).fit().summary().tables[1]"
   ]
  },
  {
   "cell_type": "markdown",
   "metadata": {},
   "source": [
    "Unlike the controlled experiment, this result tells us that participation in the National Supported Work Demonstration Job Training Program reduces real earnings by $8 498 on average; this shows the clear bias due to the lack of a proper control group. "
   ]
  },
  {
   "cell_type": "markdown",
   "metadata": {},
   "source": [
    "2.4 Using DML"
   ]
  },
  {
   "cell_type": "code",
   "execution_count": 15,
   "metadata": {},
   "outputs": [],
   "source": [
    "X = [x for x in data.columns if x != 're78' and x !='treat']"
   ]
  },
  {
   "cell_type": "markdown",
   "metadata": {},
   "source": [
    "DoubleML is an easy to use tool for DML. It's usage is pretty straight-forward and can be easily implemented by reading the [documentation](https://docs.doubleml.org/stable/intro/intro.html)"
   ]
  },
  {
   "cell_type": "code",
   "execution_count": 16,
   "metadata": {},
   "outputs": [
    {
     "name": "stdout",
     "output_type": "stream",
     "text": [
      "================== DoubleMLData Object ==================\n",
      "\n",
      "------------------ Data summary      ------------------\n",
      "Outcome variable: re78\n",
      "Treatment variable(s): ['treat']\n",
      "Covariates: ['age', 'educ', 'black', 'hisp', 'marr', 'nodegree', 're74', 're75', 'agesq', 'agecube', 'educsq', 'u74', 'u75', 'interaction1', 're74sq', 're75sq']\n",
      "Instrument variable(s): None\n",
      "No. Observations: 16177\n",
      "\n",
      "------------------ DataFrame info    ------------------\n",
      "<class 'pandas.core.frame.DataFrame'>\n",
      "RangeIndex: 16177 entries, 0 to 16176\n",
      "Columns: 18 entries, treat to re75sq\n",
      "dtypes: float64(6), int64(12)\n",
      "memory usage: 2.2 MB\n",
      "\n"
     ]
    }
   ],
   "source": [
    "# pip install -U DoubleML\n",
    "from doubleml import DoubleMLData\n",
    "\n",
    "dml_data = DoubleMLData(data, y_col= 're78', d_cols= 'treat', x_cols= X)\n",
    "print(dml_data)"
   ]
  },
  {
   "cell_type": "markdown",
   "metadata": {},
   "source": [
    "We will implement the learners saw in class: OLS, Lasso, Random trees and Random Forest"
   ]
  },
  {
   "cell_type": "code",
   "execution_count": 40,
   "metadata": {},
   "outputs": [],
   "source": [
    "from sklearn.ensemble import RandomForestRegressor\n",
    "from sklearn.linear_model import LinearRegression, LassoCV\n",
    "import warnings\n",
    "warnings.filterwarnings(\"ignore\")"
   ]
  },
  {
   "cell_type": "code",
   "execution_count": 41,
   "metadata": {},
   "outputs": [],
   "source": [
    "l_OLS = LinearRegression()\n",
    "l_lasso = LassoCV()\n",
    "l_RT = RandomForestRegressor(n_estimators=1)\n",
    "l_RF = RandomForestRegressor(n_estimators=200)\n"
   ]
  },
  {
   "cell_type": "code",
   "execution_count": 42,
   "metadata": {},
   "outputs": [],
   "source": [
    "from doubleml import DoubleMLPLR\n",
    "\n",
    "np.random.seed(123)\n",
    "\n",
    "DML_ols = DoubleMLPLR(dml_data, l_OLS, l_OLS).fit()"
   ]
  },
  {
   "cell_type": "code",
   "execution_count": 43,
   "metadata": {},
   "outputs": [],
   "source": [
    "DML_lasso = DoubleMLPLR(dml_data, l_lasso, l_lasso).fit()"
   ]
  },
  {
   "cell_type": "code",
   "execution_count": 36,
   "metadata": {},
   "outputs": [],
   "source": [
    "DML_RT = DoubleMLPLR(dml_data, l_RT, l_RT).fit()"
   ]
  },
  {
   "cell_type": "code",
   "execution_count": 22,
   "metadata": {},
   "outputs": [],
   "source": [
    "DML_RF = DoubleMLPLR(dml_data, l_RF, l_RF).fit()"
   ]
  },
  {
   "cell_type": "code",
   "execution_count": 117,
   "metadata": {},
   "outputs": [
    {
     "name": "stdout",
     "output_type": "stream",
     "text": [
      "================== DoubleMLPLR Object ==================\n",
      "\n",
      "------------------ Data summary      ------------------\n",
      "Outcome variable: re78\n",
      "Treatment variable(s): ['treat']\n",
      "Covariates: ['age', 'educ', 'black', 'hisp', 'marr', 'nodegree', 're74', 're75', 'agesq', 'agecube', 'educsq', 'u74', 'u75', 'interaction1', 're74sq', 're75sq']\n",
      "Instrument variable(s): None\n",
      "No. Observations: 16177\n",
      "\n",
      "------------------ Score & algorithm ------------------\n",
      "Score function: partialling out\n",
      "\n",
      "------------------ Machine learner   ------------------\n",
      "Learner ml_l: LinearRegression()\n",
      "Learner ml_m: LinearRegression()\n",
      "Out-of-sample Performance:\n",
      "Regression:\n",
      "Learner ml_l RMSE: [[6.98706878]]\n",
      "Learner ml_m RMSE: [[0.09866969]]\n",
      "\n",
      "------------------ Resampling        ------------------\n",
      "No. folds: 5\n",
      "No. repeated sample splits: 1\n",
      "\n",
      "------------------ Fit summary       ------------------\n",
      "           coef   std err         t     P>|t|     2.5 %    97.5 %\n",
      "treat  1.596156  0.629581  2.535265  0.011236  0.362199  2.830112\n"
     ]
    }
   ],
   "source": [
    "print(DML_ols)"
   ]
  },
  {
   "cell_type": "code",
   "execution_count": 118,
   "metadata": {},
   "outputs": [
    {
     "name": "stdout",
     "output_type": "stream",
     "text": [
      "================== DoubleMLPLR Object ==================\n",
      "\n",
      "------------------ Data summary      ------------------\n",
      "Outcome variable: re78\n",
      "Treatment variable(s): ['treat']\n",
      "Covariates: ['age', 'educ', 'black', 'hisp', 'marr', 'nodegree', 're74', 're75', 'agesq', 'agecube', 'educsq', 'u74', 'u75', 'interaction1', 're74sq', 're75sq']\n",
      "Instrument variable(s): None\n",
      "No. Observations: 16177\n",
      "\n",
      "------------------ Score & algorithm ------------------\n",
      "Score function: partialling out\n",
      "\n",
      "------------------ Machine learner   ------------------\n",
      "Learner ml_l: LassoCV()\n",
      "Learner ml_m: LassoCV()\n",
      "Out-of-sample Performance:\n",
      "Regression:\n",
      "Learner ml_l RMSE: [[7.21739293]]\n",
      "Learner ml_m RMSE: [[0.10633536]]\n",
      "\n",
      "------------------ Resampling        ------------------\n",
      "No. folds: 5\n",
      "No. repeated sample splits: 1\n",
      "\n",
      "------------------ Fit summary       ------------------\n",
      "           coef  std err         t     P>|t|     2.5 %    97.5 %\n",
      "treat -2.065467  0.57813 -3.572667  0.000353 -3.198582 -0.932353\n"
     ]
    }
   ],
   "source": [
    "print(DML_lasso)"
   ]
  },
  {
   "cell_type": "code",
   "execution_count": 119,
   "metadata": {},
   "outputs": [
    {
     "name": "stdout",
     "output_type": "stream",
     "text": [
      "================== DoubleMLPLR Object ==================\n",
      "\n",
      "------------------ Data summary      ------------------\n",
      "Outcome variable: re78\n",
      "Treatment variable(s): ['treat']\n",
      "Covariates: ['age', 'educ', 'black', 'hisp', 'marr', 'nodegree', 're74', 're75', 'agesq', 'agecube', 'educsq', 'u74', 'u75', 'interaction1', 're74sq', 're75sq']\n",
      "Instrument variable(s): None\n",
      "No. Observations: 16177\n",
      "\n",
      "------------------ Score & algorithm ------------------\n",
      "Score function: partialling out\n",
      "\n",
      "------------------ Machine learner   ------------------\n",
      "Learner ml_l: RandomForestRegressor(n_estimators=1)\n",
      "Learner ml_m: RandomForestRegressor(n_estimators=1)\n",
      "Out-of-sample Performance:\n",
      "Regression:\n",
      "Learner ml_l RMSE: [[9.72611762]]\n",
      "Learner ml_m RMSE: [[0.11975365]]\n",
      "\n",
      "------------------ Resampling        ------------------\n",
      "No. folds: 5\n",
      "No. repeated sample splits: 1\n",
      "\n",
      "------------------ Fit summary       ------------------\n",
      "         coef   std err         t     P>|t|     2.5 %    97.5 %\n",
      "treat  0.7342  0.639295  1.148452  0.250782 -0.518795  1.987194\n"
     ]
    }
   ],
   "source": [
    "print(DML_RT)"
   ]
  },
  {
   "cell_type": "code",
   "execution_count": 120,
   "metadata": {},
   "outputs": [
    {
     "name": "stdout",
     "output_type": "stream",
     "text": [
      "================== DoubleMLPLR Object ==================\n",
      "\n",
      "------------------ Data summary      ------------------\n",
      "Outcome variable: re78\n",
      "Treatment variable(s): ['treat']\n",
      "Covariates: ['age', 'educ', 'black', 'hisp', 'marr', 'nodegree', 're74', 're75', 'agesq', 'agecube', 'educsq', 'u74', 'u75', 'interaction1', 're74sq', 're75sq']\n",
      "Instrument variable(s): None\n",
      "No. Observations: 16177\n",
      "\n",
      "------------------ Score & algorithm ------------------\n",
      "Score function: partialling out\n",
      "\n",
      "------------------ Machine learner   ------------------\n",
      "Learner ml_l: RandomForestRegressor(n_estimators=200)\n",
      "Learner ml_m: RandomForestRegressor(n_estimators=200)\n",
      "Out-of-sample Performance:\n",
      "Regression:\n",
      "Learner ml_l RMSE: [[7.36448147]]\n",
      "Learner ml_m RMSE: [[0.09016356]]\n",
      "\n",
      "------------------ Resampling        ------------------\n",
      "No. folds: 5\n",
      "No. repeated sample splits: 1\n",
      "\n",
      "------------------ Fit summary       ------------------\n",
      "           coef   std err        t    P>|t|     2.5 %   97.5 %\n",
      "treat  1.097812  0.622674  1.76306  0.07789 -0.122607  2.31823\n"
     ]
    }
   ],
   "source": [
    "print(DML_RF)"
   ]
  },
  {
   "cell_type": "markdown",
   "metadata": {},
   "source": [
    "Now, with the selected models based on minimum RMSE"
   ]
  },
  {
   "cell_type": "code",
   "execution_count": 123,
   "metadata": {},
   "outputs": [],
   "source": [
    "DML_opt = DoubleMLPLR(dml_data, l_OLS, l_RF).fit()"
   ]
  },
  {
   "cell_type": "code",
   "execution_count": 124,
   "metadata": {},
   "outputs": [
    {
     "name": "stdout",
     "output_type": "stream",
     "text": [
      "================== DoubleMLPLR Object ==================\n",
      "\n",
      "------------------ Data summary      ------------------\n",
      "Outcome variable: re78\n",
      "Treatment variable(s): ['treat']\n",
      "Covariates: ['age', 'educ', 'black', 'hisp', 'marr', 'nodegree', 're74', 're75', 'agesq', 'agecube', 'educsq', 'u74', 'u75', 'interaction1', 're74sq', 're75sq']\n",
      "Instrument variable(s): None\n",
      "No. Observations: 16177\n",
      "\n",
      "------------------ Score & algorithm ------------------\n",
      "Score function: partialling out\n",
      "\n",
      "------------------ Machine learner   ------------------\n",
      "Learner ml_l: LinearRegression()\n",
      "Learner ml_m: RandomForestRegressor(n_estimators=200)\n",
      "Out-of-sample Performance:\n",
      "Regression:\n",
      "Learner ml_l RMSE: [[6.98623302]]\n",
      "Learner ml_m RMSE: [[0.08871243]]\n",
      "\n",
      "------------------ Resampling        ------------------\n",
      "No. folds: 5\n",
      "No. repeated sample splits: 1\n",
      "\n",
      "------------------ Fit summary       ------------------\n",
      "           coef   std err         t    P>|t|     2.5 %    97.5 %\n",
      "treat  0.622134  0.582558  1.067934  0.28555 -0.519659  1.763927\n"
     ]
    }
   ],
   "source": [
    "print(DML_opt)"
   ]
  }
 ],
 "metadata": {
  "kernelspec": {
   "display_name": "base",
   "language": "python",
   "name": "python3"
  },
  "language_info": {
   "codemirror_mode": {
    "name": "ipython",
    "version": 3
   },
   "file_extension": ".py",
   "mimetype": "text/x-python",
   "name": "python",
   "nbconvert_exporter": "python",
   "pygments_lexer": "ipython3",
   "version": "3.10.14"
  }
 },
 "nbformat": 4,
 "nbformat_minor": 2
}
