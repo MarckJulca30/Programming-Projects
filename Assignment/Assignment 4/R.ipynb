{
 "cells": [
  {
   "cell_type": "markdown",
   "metadata": {},
   "source": [
    "## Part 1: Heterogenous treatment effects using causal trees and forests"
   ]
  },
  {
   "cell_type": "markdown",
   "metadata": {},
   "source": [
    "1.1 Load the data"
   ]
  },
  {
   "cell_type": "code",
   "execution_count": 16,
   "metadata": {
    "vscode": {
     "languageId": "r"
    }
   },
   "outputs": [
    {
     "data": {
      "text/html": [
       "<table class=\"dataframe\">\n",
       "<caption>A data.frame: 6 × 10</caption>\n",
       "<thead>\n",
       "\t<tr><th></th><th scope=col>treat</th><th scope=col>age</th><th scope=col>educ</th><th scope=col>black</th><th scope=col>hisp</th><th scope=col>marr</th><th scope=col>nodegree</th><th scope=col>re74</th><th scope=col>re75</th><th scope=col>re78</th></tr>\n",
       "\t<tr><th></th><th scope=col>&lt;int&gt;</th><th scope=col>&lt;int&gt;</th><th scope=col>&lt;int&gt;</th><th scope=col>&lt;int&gt;</th><th scope=col>&lt;int&gt;</th><th scope=col>&lt;int&gt;</th><th scope=col>&lt;int&gt;</th><th scope=col>&lt;dbl&gt;</th><th scope=col>&lt;dbl&gt;</th><th scope=col>&lt;dbl&gt;</th></tr>\n",
       "</thead>\n",
       "<tbody>\n",
       "\t<tr><th scope=row>1</th><td>1</td><td>37</td><td>11</td><td>1</td><td>0</td><td>1</td><td>1</td><td>0</td><td>0</td><td> 9930.0459</td></tr>\n",
       "\t<tr><th scope=row>2</th><td>1</td><td>22</td><td> 9</td><td>0</td><td>1</td><td>0</td><td>1</td><td>0</td><td>0</td><td> 3595.8940</td></tr>\n",
       "\t<tr><th scope=row>3</th><td>1</td><td>30</td><td>12</td><td>1</td><td>0</td><td>0</td><td>0</td><td>0</td><td>0</td><td>24909.4492</td></tr>\n",
       "\t<tr><th scope=row>4</th><td>1</td><td>27</td><td>11</td><td>1</td><td>0</td><td>0</td><td>1</td><td>0</td><td>0</td><td> 7506.1460</td></tr>\n",
       "\t<tr><th scope=row>5</th><td>1</td><td>33</td><td> 8</td><td>1</td><td>0</td><td>0</td><td>1</td><td>0</td><td>0</td><td>  289.7899</td></tr>\n",
       "\t<tr><th scope=row>6</th><td>1</td><td>22</td><td> 9</td><td>1</td><td>0</td><td>0</td><td>1</td><td>0</td><td>0</td><td> 4056.4939</td></tr>\n",
       "</tbody>\n",
       "</table>\n"
      ],
      "text/latex": [
       "A data.frame: 6 × 10\n",
       "\\begin{tabular}{r|llllllllll}\n",
       "  & treat & age & educ & black & hisp & marr & nodegree & re74 & re75 & re78\\\\\n",
       "  & <int> & <int> & <int> & <int> & <int> & <int> & <int> & <dbl> & <dbl> & <dbl>\\\\\n",
       "\\hline\n",
       "\t1 & 1 & 37 & 11 & 1 & 0 & 1 & 1 & 0 & 0 &  9930.0459\\\\\n",
       "\t2 & 1 & 22 &  9 & 0 & 1 & 0 & 1 & 0 & 0 &  3595.8940\\\\\n",
       "\t3 & 1 & 30 & 12 & 1 & 0 & 0 & 0 & 0 & 0 & 24909.4492\\\\\n",
       "\t4 & 1 & 27 & 11 & 1 & 0 & 0 & 1 & 0 & 0 &  7506.1460\\\\\n",
       "\t5 & 1 & 33 &  8 & 1 & 0 & 0 & 1 & 0 & 0 &   289.7899\\\\\n",
       "\t6 & 1 & 22 &  9 & 1 & 0 & 0 & 1 & 0 & 0 &  4056.4939\\\\\n",
       "\\end{tabular}\n"
      ],
      "text/markdown": [
       "\n",
       "A data.frame: 6 × 10\n",
       "\n",
       "| <!--/--> | treat &lt;int&gt; | age &lt;int&gt; | educ &lt;int&gt; | black &lt;int&gt; | hisp &lt;int&gt; | marr &lt;int&gt; | nodegree &lt;int&gt; | re74 &lt;dbl&gt; | re75 &lt;dbl&gt; | re78 &lt;dbl&gt; |\n",
       "|---|---|---|---|---|---|---|---|---|---|---|\n",
       "| 1 | 1 | 37 | 11 | 1 | 0 | 1 | 1 | 0 | 0 |  9930.0459 |\n",
       "| 2 | 1 | 22 |  9 | 0 | 1 | 0 | 1 | 0 | 0 |  3595.8940 |\n",
       "| 3 | 1 | 30 | 12 | 1 | 0 | 0 | 0 | 0 | 0 | 24909.4492 |\n",
       "| 4 | 1 | 27 | 11 | 1 | 0 | 0 | 1 | 0 | 0 |  7506.1460 |\n",
       "| 5 | 1 | 33 |  8 | 1 | 0 | 0 | 1 | 0 | 0 |   289.7899 |\n",
       "| 6 | 1 | 22 |  9 | 1 | 0 | 0 | 1 | 0 | 0 |  4056.4939 |\n",
       "\n"
      ],
      "text/plain": [
       "  treat age educ black hisp marr nodegree re74 re75 re78      \n",
       "1 1     37  11   1     0    1    1        0    0     9930.0459\n",
       "2 1     22   9   0     1    0    1        0    0     3595.8940\n",
       "3 1     30  12   1     0    0    0        0    0    24909.4492\n",
       "4 1     27  11   1     0    0    1        0    0     7506.1460\n",
       "5 1     33   8   1     0    0    1        0    0      289.7899\n",
       "6 1     22   9   1     0    0    1        0    0     4056.4939"
      ]
     },
     "metadata": {},
     "output_type": "display_data"
    }
   ],
   "source": [
    "data = read.csv('../data/experimental/experimental_control.csv')\n",
    "head(data)"
   ]
  },
  {
   "cell_type": "markdown",
   "metadata": {},
   "source": [
    "1.2 Find the ATE"
   ]
  },
  {
   "cell_type": "code",
   "execution_count": 17,
   "metadata": {
    "vscode": {
     "languageId": "r"
    }
   },
   "outputs": [
    {
     "data": {
      "text/html": [
       "<table class=\"dataframe\">\n",
       "<caption>A matrix: 2 × 4 of type dbl</caption>\n",
       "<thead>\n",
       "\t<tr><th></th><th scope=col>Estimate</th><th scope=col>Std. Error</th><th scope=col>t value</th><th scope=col>Pr(&gt;|t|)</th></tr>\n",
       "</thead>\n",
       "<tbody>\n",
       "\t<tr><th scope=row>(Intercept)</th><td>4554.801</td><td>408.0459</td><td>11.162474</td><td>1.154114e-25</td></tr>\n",
       "\t<tr><th scope=row>treat</th><td>1794.342</td><td>632.8534</td><td> 2.835321</td><td>4.787530e-03</td></tr>\n",
       "</tbody>\n",
       "</table>\n"
      ],
      "text/latex": [
       "A matrix: 2 × 4 of type dbl\n",
       "\\begin{tabular}{r|llll}\n",
       "  & Estimate & Std. Error & t value & Pr(>\\textbar{}t\\textbar{})\\\\\n",
       "\\hline\n",
       "\t(Intercept) & 4554.801 & 408.0459 & 11.162474 & 1.154114e-25\\\\\n",
       "\ttreat & 1794.342 & 632.8534 &  2.835321 & 4.787530e-03\\\\\n",
       "\\end{tabular}\n"
      ],
      "text/markdown": [
       "\n",
       "A matrix: 2 × 4 of type dbl\n",
       "\n",
       "| <!--/--> | Estimate | Std. Error | t value | Pr(&gt;|t|) |\n",
       "|---|---|---|---|---|\n",
       "| (Intercept) | 4554.801 | 408.0459 | 11.162474 | 1.154114e-25 |\n",
       "| treat | 1794.342 | 632.8534 |  2.835321 | 4.787530e-03 |\n",
       "\n"
      ],
      "text/plain": [
       "            Estimate Std. Error t value   Pr(>|t|)    \n",
       "(Intercept) 4554.801 408.0459   11.162474 1.154114e-25\n",
       "treat       1794.342 632.8534    2.835321 4.787530e-03"
      ]
     },
     "metadata": {},
     "output_type": "display_data"
    }
   ],
   "source": [
    "model <- lm(re78 ~ treat, data = data)\n",
    "\n",
    "summary(model)$coefficients"
   ]
  },
  {
   "cell_type": "markdown",
   "metadata": {},
   "source": [
    "Participation in the National Supported Work Demonstration Job Training Program increases real earnings by $1 794 on average."
   ]
  },
  {
   "cell_type": "markdown",
   "metadata": {},
   "source": [
    "1.3 Heterogenous effects with causal trees"
   ]
  },
  {
   "cell_type": "code",
   "execution_count": 18,
   "metadata": {
    "vscode": {
     "languageId": "r"
    }
   },
   "outputs": [],
   "source": [
    "vars = names(data)[names(data) != \"re78\" & names(data) != \"treat\"]"
   ]
  },
  {
   "cell_type": "code",
   "execution_count": 19,
   "metadata": {
    "vscode": {
     "languageId": "r"
    }
   },
   "outputs": [],
   "source": [
    "library(fastDummies)\n",
    "X <- data[,vars]\n",
    "Y <- data[, 're78']\n",
    "W <- data[, 'treat']"
   ]
  },
  {
   "cell_type": "code",
   "execution_count": 39,
   "metadata": {
    "vscode": {
     "languageId": "r"
    }
   },
   "outputs": [
    {
     "name": "stderr",
     "output_type": "stream",
     "text": [
      "Warning message:\n",
      "\"package 'DiagrammeR' was built under R version 4.3.3\"\n"
     ]
    }
   ],
   "source": [
    "library(grf)\n",
    "library(DiagrammeR)\n",
    "tree_model <- causal_forest(X, Y, W, num.trees = 1,\n",
    "                      mtry = ncol(X))"
   ]
  },
  {
   "cell_type": "code",
   "execution_count": 44,
   "metadata": {
    "vscode": {
     "languageId": "r"
    }
   },
   "outputs": [
    {
     "data": {
      "text/plain": [
       "GRF tree object \n",
       "Number of training samples: 222 \n",
       "Variable splits: \n",
       "(1) split_variable: age  split_value: 24 \n",
       "  (2) split_variable: age  split_value: 20 \n",
       "    (4) split_variable: black  split_value: 0 \n",
       "      (8) * num_samples: 5  avg_Y: 3871.11 avg_W: 0.2 \n",
       "      (9) * num_samples: 29  avg_Y: 5348.74 avg_W: 0.31 \n",
       "    (5) split_variable: age  split_value: 22 \n",
       "      (10) * num_samples: 8  avg_Y: 7842.78 avg_W: 0.5 \n",
       "      (11) * num_samples: 11  avg_Y: 4583.13 avg_W: 0.36 \n",
       "  (3) split_variable: re74  split_value: 3472.95 \n",
       "    (6) split_variable: educ  split_value: 10 \n",
       "      (12) * num_samples: 27  avg_Y: 3810.19 avg_W: 0.33 \n",
       "      (13) * num_samples: 24  avg_Y: 7521.07 avg_W: 0.46 \n",
       "    (7) * num_samples: 7  avg_Y: 2880.37 avg_W: 0.57 "
      ]
     },
     "metadata": {},
     "output_type": "display_data"
    }
   ],
   "source": [
    "get_tree(tree_model, 1)"
   ]
  },
  {
   "cell_type": "markdown",
   "metadata": {},
   "source": [
    "The interpretation is subject to the depth your tree ends up with. As specified in the issue, we would stick to what we saw in class (that is, an arbitrarily small tree). However, do not forget that a proper way to tune hyperparameters is Cross-Validation."
   ]
  },
  {
   "cell_type": "markdown",
   "metadata": {},
   "source": [
    "1.4 Heterogenous effects with causal forests"
   ]
  },
  {
   "cell_type": "code",
   "execution_count": 45,
   "metadata": {
    "vscode": {
     "languageId": "r"
    }
   },
   "outputs": [],
   "source": [
    "forest_model <- causal_forest(X, Y, W, num.trees = 200,\n",
    "                      mtry = ncol(X))"
   ]
  },
  {
   "cell_type": "code",
   "execution_count": 48,
   "metadata": {
    "vscode": {
     "languageId": "r"
    }
   },
   "outputs": [
    {
     "data": {
      "text/html": [
       "<table class=\"dataframe\">\n",
       "<caption>A data.frame: 8 × 2</caption>\n",
       "<thead>\n",
       "\t<tr><th scope=col>variable</th><th scope=col>importance</th></tr>\n",
       "\t<tr><th scope=col>&lt;chr&gt;</th><th scope=col>&lt;dbl&gt;</th></tr>\n",
       "</thead>\n",
       "<tbody>\n",
       "\t<tr><td>age     </td><td>0.2970174982</td></tr>\n",
       "\t<tr><td>re74    </td><td>0.2298397132</td></tr>\n",
       "\t<tr><td>educ    </td><td>0.1688179702</td></tr>\n",
       "\t<tr><td>re75    </td><td>0.1571570455</td></tr>\n",
       "\t<tr><td>nodegree</td><td>0.0725899048</td></tr>\n",
       "\t<tr><td>marr    </td><td>0.0653107279</td></tr>\n",
       "\t<tr><td>black   </td><td>0.0084661825</td></tr>\n",
       "\t<tr><td>hisp    </td><td>0.0008009576</td></tr>\n",
       "</tbody>\n",
       "</table>\n"
      ],
      "text/latex": [
       "A data.frame: 8 × 2\n",
       "\\begin{tabular}{ll}\n",
       " variable & importance\\\\\n",
       " <chr> & <dbl>\\\\\n",
       "\\hline\n",
       "\t age      & 0.2970174982\\\\\n",
       "\t re74     & 0.2298397132\\\\\n",
       "\t educ     & 0.1688179702\\\\\n",
       "\t re75     & 0.1571570455\\\\\n",
       "\t nodegree & 0.0725899048\\\\\n",
       "\t marr     & 0.0653107279\\\\\n",
       "\t black    & 0.0084661825\\\\\n",
       "\t hisp     & 0.0008009576\\\\\n",
       "\\end{tabular}\n"
      ],
      "text/markdown": [
       "\n",
       "A data.frame: 8 × 2\n",
       "\n",
       "| variable &lt;chr&gt; | importance &lt;dbl&gt; |\n",
       "|---|---|\n",
       "| age      | 0.2970174982 |\n",
       "| re74     | 0.2298397132 |\n",
       "| educ     | 0.1688179702 |\n",
       "| re75     | 0.1571570455 |\n",
       "| nodegree | 0.0725899048 |\n",
       "| marr     | 0.0653107279 |\n",
       "| black    | 0.0084661825 |\n",
       "| hisp     | 0.0008009576 |\n",
       "\n"
      ],
      "text/plain": [
       "  variable importance  \n",
       "1 age      0.2970174982\n",
       "2 re74     0.2298397132\n",
       "3 educ     0.1688179702\n",
       "4 re75     0.1571570455\n",
       "5 nodegree 0.0725899048\n",
       "6 marr     0.0653107279\n",
       "7 black    0.0084661825\n",
       "8 hisp     0.0008009576"
      ]
     },
     "metadata": {},
     "output_type": "display_data"
    }
   ],
   "source": [
    "varimp <- variable_importance(forest_model)\n",
    "ranked.vars <- order(varimp, decreasing = TRUE)\n",
    "importances <- data.frame(variable = colnames(X)[ranked.vars], importance = varimp[ranked.vars])\n",
    "importances"
   ]
  },
  {
   "cell_type": "code",
   "execution_count": 49,
   "metadata": {
    "vscode": {
     "languageId": "r"
    }
   },
   "outputs": [
    {
     "data": {
      "text/plain": [
       "GRF tree object \n",
       "Number of training samples: 222 \n",
       "Variable splits: \n",
       "(1) split_variable: marr  split_value: 0 \n",
       "  (2) split_variable: educ  split_value: 11 \n",
       "    (4) split_variable: age  split_value: 25 \n",
       "      (8) split_variable: educ  split_value: 9 \n",
       "        (12) * num_samples: 22  avg_Y: 4694.46 avg_W: 0.45 \n",
       "        (13) * num_samples: 30  avg_Y: 5717.47 avg_W: 0.3 \n",
       "      (9) * num_samples: 19  avg_Y: 8172.79 avg_W: 0.37 \n",
       "    (5) split_variable: re75  split_value: 0 \n",
       "      (10) * num_samples: 17  avg_Y: 8068.89 avg_W: 0.71 \n",
       "      (11) * num_samples: 6  avg_Y: 3774.12 avg_W: 0.5 \n",
       "  (3) split_variable: re75  split_value: 0 \n",
       "    (6) * num_samples: 10  avg_Y: 5356.68 avg_W: 0.5 \n",
       "    (7) * num_samples: 7  avg_Y: 6270.36 avg_W: 0.57 "
      ]
     },
     "metadata": {},
     "output_type": "display_data"
    }
   ],
   "source": [
    "get_tree(forest_model, 1)"
   ]
  },
  {
   "cell_type": "markdown",
   "metadata": {},
   "source": [
    "1.5 Plot heterogenous effects"
   ]
  },
  {
   "cell_type": "code",
   "execution_count": 54,
   "metadata": {
    "vscode": {
     "languageId": "r"
    }
   },
   "outputs": [
    {
     "data": {
      "image/png": "[encoded data removed]",
      "text/plain": [
       "plot without title"
      ]
     },
     "metadata": {
      "image/png": {
       "height": 420,
       "width": 420
      }
     },
     "output_type": "display_data"
    }
   ],
   "source": [
    "data$predicted_effects <- predict(forest_model, X)$predictions\n",
    "predicted_effects_bins <- aggregate(predicted_effects ~ age, data = data, mean)\n",
    "plot(predicted_effects_bins$age, predicted_effects_bins$predicted_effects, col = \"red\", type = 'l')"
   ]
  },
  {
   "cell_type": "markdown",
   "metadata": {},
   "source": [
    "## Part 2: Double/Debiased machine learning in obsevational data"
   ]
  },
  {
   "cell_type": "markdown",
   "metadata": {},
   "source": [
    "2.1 Load the data"
   ]
  },
  {
   "cell_type": "code",
   "execution_count": 70,
   "metadata": {
    "vscode": {
     "languageId": "r"
    }
   },
   "outputs": [
    {
     "data": {
      "text/html": [
       "<table class=\"dataframe\">\n",
       "<caption>A data.frame: 6 × 18</caption>\n",
       "<thead>\n",
       "\t<tr><th></th><th scope=col>treat</th><th scope=col>age</th><th scope=col>educ</th><th scope=col>black</th><th scope=col>hisp</th><th scope=col>marr</th><th scope=col>nodegree</th><th scope=col>re74</th><th scope=col>re75</th><th scope=col>re78</th><th scope=col>agesq</th><th scope=col>agecube</th><th scope=col>educsq</th><th scope=col>u74</th><th scope=col>u75</th><th scope=col>interaction1</th><th scope=col>re74sq</th><th scope=col>re75sq</th></tr>\n",
       "\t<tr><th></th><th scope=col>&lt;int&gt;</th><th scope=col>&lt;int&gt;</th><th scope=col>&lt;int&gt;</th><th scope=col>&lt;int&gt;</th><th scope=col>&lt;int&gt;</th><th scope=col>&lt;int&gt;</th><th scope=col>&lt;int&gt;</th><th scope=col>&lt;dbl&gt;</th><th scope=col>&lt;dbl&gt;</th><th scope=col>&lt;dbl&gt;</th><th scope=col>&lt;int&gt;</th><th scope=col>&lt;int&gt;</th><th scope=col>&lt;int&gt;</th><th scope=col>&lt;int&gt;</th><th scope=col>&lt;int&gt;</th><th scope=col>&lt;dbl&gt;</th><th scope=col>&lt;dbl&gt;</th><th scope=col>&lt;dbl&gt;</th></tr>\n",
       "</thead>\n",
       "<tbody>\n",
       "\t<tr><th scope=row>1</th><td>0</td><td>45</td><td>11</td><td>0</td><td>0</td><td>1</td><td>1</td><td>21.516670</td><td>25.243551</td><td>25.564670</td><td>2025</td><td> 91125</td><td>121</td><td>0</td><td>0</td><td>236.68337</td><td>462.967085</td><td>637.23686</td></tr>\n",
       "\t<tr><th scope=row>2</th><td>0</td><td>21</td><td>14</td><td>0</td><td>0</td><td>0</td><td>0</td><td> 3.175971</td><td> 5.852565</td><td>13.496080</td><td> 441</td><td>  9261</td><td>196</td><td>0</td><td>0</td><td> 44.46359</td><td> 10.086791</td><td> 34.25252</td></tr>\n",
       "\t<tr><th scope=row>3</th><td>0</td><td>38</td><td>12</td><td>0</td><td>0</td><td>1</td><td>0</td><td>23.039020</td><td>25.130760</td><td>25.564670</td><td>1444</td><td> 54872</td><td>144</td><td>0</td><td>0</td><td>276.46823</td><td>530.796421</td><td>631.55509</td></tr>\n",
       "\t<tr><th scope=row>4</th><td>0</td><td>48</td><td> 6</td><td>0</td><td>0</td><td>1</td><td>1</td><td>24.994369</td><td>25.243551</td><td>25.564670</td><td>2304</td><td>110592</td><td> 36</td><td>0</td><td>0</td><td>149.96621</td><td>624.718489</td><td>637.23686</td></tr>\n",
       "\t<tr><th scope=row>5</th><td>0</td><td>18</td><td> 8</td><td>0</td><td>0</td><td>1</td><td>1</td><td> 1.669295</td><td>10.727610</td><td> 9.860869</td><td> 324</td><td>  5832</td><td> 64</td><td>0</td><td>0</td><td> 13.35436</td><td>  2.786546</td><td>115.08162</td></tr>\n",
       "\t<tr><th scope=row>6</th><td>0</td><td>22</td><td>11</td><td>0</td><td>0</td><td>1</td><td>1</td><td>16.365760</td><td>18.449270</td><td>25.564670</td><td> 484</td><td> 10648</td><td>121</td><td>0</td><td>0</td><td>180.02336</td><td>267.838093</td><td>340.37555</td></tr>\n",
       "</tbody>\n",
       "</table>\n"
      ],
      "text/latex": [
       "A data.frame: 6 × 18\n",
       "\\begin{tabular}{r|llllllllllllllllll}\n",
       "  & treat & age & educ & black & hisp & marr & nodegree & re74 & re75 & re78 & agesq & agecube & educsq & u74 & u75 & interaction1 & re74sq & re75sq\\\\\n",
       "  & <int> & <int> & <int> & <int> & <int> & <int> & <int> & <dbl> & <dbl> & <dbl> & <int> & <int> & <int> & <int> & <int> & <dbl> & <dbl> & <dbl>\\\\\n",
       "\\hline\n",
       "\t1 & 0 & 45 & 11 & 0 & 0 & 1 & 1 & 21.516670 & 25.243551 & 25.564670 & 2025 &  91125 & 121 & 0 & 0 & 236.68337 & 462.967085 & 637.23686\\\\\n",
       "\t2 & 0 & 21 & 14 & 0 & 0 & 0 & 0 &  3.175971 &  5.852565 & 13.496080 &  441 &   9261 & 196 & 0 & 0 &  44.46359 &  10.086791 &  34.25252\\\\\n",
       "\t3 & 0 & 38 & 12 & 0 & 0 & 1 & 0 & 23.039020 & 25.130760 & 25.564670 & 1444 &  54872 & 144 & 0 & 0 & 276.46823 & 530.796421 & 631.55509\\\\\n",
       "\t4 & 0 & 48 &  6 & 0 & 0 & 1 & 1 & 24.994369 & 25.243551 & 25.564670 & 2304 & 110592 &  36 & 0 & 0 & 149.96621 & 624.718489 & 637.23686\\\\\n",
       "\t5 & 0 & 18 &  8 & 0 & 0 & 1 & 1 &  1.669295 & 10.727610 &  9.860869 &  324 &   5832 &  64 & 0 & 0 &  13.35436 &   2.786546 & 115.08162\\\\\n",
       "\t6 & 0 & 22 & 11 & 0 & 0 & 1 & 1 & 16.365760 & 18.449270 & 25.564670 &  484 &  10648 & 121 & 0 & 0 & 180.02336 & 267.838093 & 340.37555\\\\\n",
       "\\end{tabular}\n"
      ],
      "text/markdown": [
       "\n",
       "A data.frame: 6 × 18\n",
       "\n",
       "| <!--/--> | treat &lt;int&gt; | age &lt;int&gt; | educ &lt;int&gt; | black &lt;int&gt; | hisp &lt;int&gt; | marr &lt;int&gt; | nodegree &lt;int&gt; | re74 &lt;dbl&gt; | re75 &lt;dbl&gt; | re78 &lt;dbl&gt; | agesq &lt;int&gt; | agecube &lt;int&gt; | educsq &lt;int&gt; | u74 &lt;int&gt; | u75 &lt;int&gt; | interaction1 &lt;dbl&gt; | re74sq &lt;dbl&gt; | re75sq &lt;dbl&gt; |\n",
       "|---|---|---|---|---|---|---|---|---|---|---|---|---|---|---|---|---|---|---|\n",
       "| 1 | 0 | 45 | 11 | 0 | 0 | 1 | 1 | 21.516670 | 25.243551 | 25.564670 | 2025 |  91125 | 121 | 0 | 0 | 236.68337 | 462.967085 | 637.23686 |\n",
       "| 2 | 0 | 21 | 14 | 0 | 0 | 0 | 0 |  3.175971 |  5.852565 | 13.496080 |  441 |   9261 | 196 | 0 | 0 |  44.46359 |  10.086791 |  34.25252 |\n",
       "| 3 | 0 | 38 | 12 | 0 | 0 | 1 | 0 | 23.039020 | 25.130760 | 25.564670 | 1444 |  54872 | 144 | 0 | 0 | 276.46823 | 530.796421 | 631.55509 |\n",
       "| 4 | 0 | 48 |  6 | 0 | 0 | 1 | 1 | 24.994369 | 25.243551 | 25.564670 | 2304 | 110592 |  36 | 0 | 0 | 149.96621 | 624.718489 | 637.23686 |\n",
       "| 5 | 0 | 18 |  8 | 0 | 0 | 1 | 1 |  1.669295 | 10.727610 |  9.860869 |  324 |   5832 |  64 | 0 | 0 |  13.35436 |   2.786546 | 115.08162 |\n",
       "| 6 | 0 | 22 | 11 | 0 | 0 | 1 | 1 | 16.365760 | 18.449270 | 25.564670 |  484 |  10648 | 121 | 0 | 0 | 180.02336 | 267.838093 | 340.37555 |\n",
       "\n"
      ],
      "text/plain": [
       "  treat age educ black hisp marr nodegree re74      re75      re78      agesq\n",
       "1 0     45  11   0     0    1    1        21.516670 25.243551 25.564670 2025 \n",
       "2 0     21  14   0     0    0    0         3.175971  5.852565 13.496080  441 \n",
       "3 0     38  12   0     0    1    0        23.039020 25.130760 25.564670 1444 \n",
       "4 0     48   6   0     0    1    1        24.994369 25.243551 25.564670 2304 \n",
       "5 0     18   8   0     0    1    1         1.669295 10.727610  9.860869  324 \n",
       "6 0     22  11   0     0    1    1        16.365760 18.449270 25.564670  484 \n",
       "  agecube educsq u74 u75 interaction1 re74sq     re75sq   \n",
       "1  91125  121    0   0   236.68337    462.967085 637.23686\n",
       "2   9261  196    0   0    44.46359     10.086791  34.25252\n",
       "3  54872  144    0   0   276.46823    530.796421 631.55509\n",
       "4 110592   36    0   0   149.96621    624.718489 637.23686\n",
       "5   5832   64    0   0    13.35436      2.786546 115.08162\n",
       "6  10648  121    0   0   180.02336    267.838093 340.37555"
      ]
     },
     "metadata": {},
     "output_type": "display_data"
    }
   ],
   "source": [
    "data = read.csv('../data/observational/biased_control.csv')\n",
    "head(data)"
   ]
  },
  {
   "cell_type": "markdown",
   "metadata": {},
   "source": [
    "2.2 Group comparisons"
   ]
  },
  {
   "cell_type": "code",
   "execution_count": 57,
   "metadata": {
    "vscode": {
     "languageId": "r"
    }
   },
   "outputs": [],
   "source": [
    "control <- data[data$treat == 0, ]\n",
    "treated <- data[data$treat == 1, ]"
   ]
  },
  {
   "cell_type": "code",
   "execution_count": 58,
   "metadata": {
    "vscode": {
     "languageId": "r"
    }
   },
   "outputs": [
    {
     "data": {
      "text/plain": [
       "     treat        age             educ           black        \n",
       " Min.   :0   Min.   :16.00   Min.   : 0.00   Min.   :0.00000  \n",
       " 1st Qu.:0   1st Qu.:24.00   1st Qu.:11.00   1st Qu.:0.00000  \n",
       " Median :0   Median :31.00   Median :12.00   Median :0.00000  \n",
       " Mean   :0   Mean   :33.23   Mean   :12.03   Mean   :0.07354  \n",
       " 3rd Qu.:0   3rd Qu.:42.00   3rd Qu.:13.00   3rd Qu.:0.00000  \n",
       " Max.   :0   Max.   :55.00   Max.   :18.00   Max.   :1.00000  \n",
       "      hisp              marr           nodegree           re74       \n",
       " Min.   :0.00000   Min.   :0.0000   Min.   :0.0000   Min.   : 0.000  \n",
       " 1st Qu.:0.00000   1st Qu.:0.0000   1st Qu.:0.0000   1st Qu.: 4.403  \n",
       " Median :0.00000   Median :1.0000   Median :0.0000   Median :15.124  \n",
       " Mean   :0.07204   Mean   :0.7117   Mean   :0.2958   Mean   :14.017  \n",
       " 3rd Qu.:0.00000   3rd Qu.:1.0000   3rd Qu.:1.0000   3rd Qu.:23.584  \n",
       " Max.   :1.00000   Max.   :1.0000   Max.   :1.0000   Max.   :25.862  \n",
       "      re75             re78            agesq         agecube      \n",
       " Min.   : 0.000   Min.   : 0.000   Min.   : 256   Min.   :  4096  \n",
       " 1st Qu.: 4.399   1st Qu.: 5.669   1st Qu.: 576   1st Qu.: 13824  \n",
       " Median :14.557   Median :16.422   Median : 961   Median : 29791  \n",
       " Mean   :13.651   Mean   :14.847   Mean   :1226   Mean   : 49306  \n",
       " 3rd Qu.:22.924   3rd Qu.:25.565   3rd Qu.:1764   3rd Qu.: 74088  \n",
       " Max.   :25.244   Max.   :25.565   Max.   :3025   Max.   :166375  \n",
       "     educsq           u74              u75          interaction1   \n",
       " Min.   :  0.0   Min.   :0.0000   Min.   :0.0000   Min.   :  0.00  \n",
       " 1st Qu.:121.0   1st Qu.:0.0000   1st Qu.:0.0000   1st Qu.: 46.88  \n",
       " Median :144.0   Median :0.0000   Median :0.0000   Median :166.86  \n",
       " Mean   :152.9   Mean   :0.1196   Mean   :0.1093   Mean   :171.15  \n",
       " 3rd Qu.:169.0   3rd Qu.:0.0000   3rd Qu.:0.0000   3rd Qu.:284.49  \n",
       " Max.   :324.0   Max.   :1.0000   Max.   :1.0000   Max.   :465.52  \n",
       "     re74sq           re75sq      \n",
       " Min.   :  0.00   Min.   :  0.00  \n",
       " 1st Qu.: 19.39   1st Qu.: 19.35  \n",
       " Median :228.72   Median :211.91  \n",
       " Mean   :288.05   Mean   :272.28  \n",
       " 3rd Qu.:556.21   3rd Qu.:525.50  \n",
       " Max.   :668.86   Max.   :637.24  "
      ]
     },
     "metadata": {},
     "output_type": "display_data"
    }
   ],
   "source": [
    "summary(control)"
   ]
  },
  {
   "cell_type": "code",
   "execution_count": 59,
   "metadata": {
    "vscode": {
     "languageId": "r"
    }
   },
   "outputs": [
    {
     "data": {
      "text/plain": [
       "     treat        age             educ           black             hisp        \n",
       " Min.   :1   Min.   :17.00   Min.   : 4.00   Min.   :0.0000   Min.   :0.00000  \n",
       " 1st Qu.:1   1st Qu.:20.00   1st Qu.: 9.00   1st Qu.:1.0000   1st Qu.:0.00000  \n",
       " Median :1   Median :25.00   Median :11.00   Median :1.0000   Median :0.00000  \n",
       " Mean   :1   Mean   :25.82   Mean   :10.35   Mean   :0.8432   Mean   :0.05946  \n",
       " 3rd Qu.:1   3rd Qu.:29.00   3rd Qu.:12.00   3rd Qu.:1.0000   3rd Qu.:0.00000  \n",
       " Max.   :1   Max.   :48.00   Max.   :16.00   Max.   :1.0000   Max.   :1.00000  \n",
       "      marr           nodegree           re74             re75       \n",
       " Min.   :0.0000   Min.   :0.0000   Min.   : 0.000   Min.   : 0.000  \n",
       " 1st Qu.:0.0000   1st Qu.:0.0000   1st Qu.: 0.000   1st Qu.: 0.000  \n",
       " Median :0.0000   Median :1.0000   Median : 0.000   Median : 0.000  \n",
       " Mean   :0.1892   Mean   :0.7081   Mean   : 2.096   Mean   : 1.532  \n",
       " 3rd Qu.:0.0000   3rd Qu.:1.0000   3rd Qu.: 1.291   3rd Qu.: 1.817  \n",
       " Max.   :1.0000   Max.   :1.0000   Max.   :35.040   Max.   :25.142  \n",
       "      re78             agesq           agecube           educsq     \n",
       " Min.   : 0.0000   Min.   : 289.0   Min.   :  4913   Min.   : 16.0  \n",
       " 1st Qu.: 0.4852   1st Qu.: 400.0   1st Qu.:  8000   1st Qu.: 81.0  \n",
       " Median : 4.2323   Median : 625.0   Median : 15625   Median :121.0  \n",
       " Mean   : 6.3491   Mean   : 717.4   Mean   : 21555   Mean   :111.1  \n",
       " 3rd Qu.: 9.6430   3rd Qu.: 841.0   3rd Qu.: 24389   3rd Qu.:144.0  \n",
       " Max.   :60.3079   Max.   :2304.0   Max.   :110592   Max.   :256.0  \n",
       "      u74              u75       interaction1        re74sq        \n",
       " Min.   :0.0000   Min.   :0.0   Min.   :  0.00   Min.   :   0.000  \n",
       " 1st Qu.:0.0000   1st Qu.:0.0   1st Qu.:  0.00   1st Qu.:   0.000  \n",
       " Median :1.0000   Median :1.0   Median :  0.00   Median :   0.000  \n",
       " Mean   :0.7081   Mean   :0.6   Mean   : 22.90   Mean   :  28.141  \n",
       " 3rd Qu.:1.0000   3rd Qu.:1.0   3rd Qu.: 12.91   3rd Qu.:   1.668  \n",
       " Max.   :1.0000   Max.   :1.0   Max.   :490.56   Max.   :1227.806  \n",
       "     re75sq       \n",
       " Min.   :  0.000  \n",
       " 1st Qu.:  0.000  \n",
       " Median :  0.000  \n",
       " Mean   : 12.655  \n",
       " 3rd Qu.:  3.303  \n",
       " Max.   :632.132  "
      ]
     },
     "metadata": {},
     "output_type": "display_data"
    }
   ],
   "source": [
    "summary(treated)"
   ]
  },
  {
   "cell_type": "markdown",
   "metadata": {},
   "source": [
    "The first thing to notice in the observational dataset is that the treated are significantly less than the controls. Among the features, age shows a clear difference of nearly 10 years on average between groups. The same can be said from de real income, with an average difference between groups of around $8 000 dollars. And so on.\n",
    "\n",
    "As stated in the issue, the treatment and the control groups are not comparable. Therefore, these differences may be significant."
   ]
  },
  {
   "cell_type": "markdown",
   "metadata": {},
   "source": [
    "2.3 Compute the SMD"
   ]
  },
  {
   "cell_type": "code",
   "execution_count": 60,
   "metadata": {
    "vscode": {
     "languageId": "r"
    }
   },
   "outputs": [
    {
     "data": {
      "text/html": [
       "<table class=\"dataframe\">\n",
       "<caption>A matrix: 2 × 4 of type dbl</caption>\n",
       "<thead>\n",
       "\t<tr><th></th><th scope=col>Estimate</th><th scope=col>Std. Error</th><th scope=col>t value</th><th scope=col>Pr(&gt;|t|)</th></tr>\n",
       "</thead>\n",
       "<tbody>\n",
       "\t<tr><th scope=row>(Intercept)</th><td>14.846660</td><td>0.07614292</td><td>194.98412</td><td>0.000000e+00</td></tr>\n",
       "\t<tr><th scope=row>treat</th><td>-8.497516</td><td>0.71202072</td><td>-11.93437</td><td>1.074803e-32</td></tr>\n",
       "</tbody>\n",
       "</table>\n"
      ],
      "text/latex": [
       "A matrix: 2 × 4 of type dbl\n",
       "\\begin{tabular}{r|llll}\n",
       "  & Estimate & Std. Error & t value & Pr(>\\textbar{}t\\textbar{})\\\\\n",
       "\\hline\n",
       "\t(Intercept) & 14.846660 & 0.07614292 & 194.98412 & 0.000000e+00\\\\\n",
       "\ttreat & -8.497516 & 0.71202072 & -11.93437 & 1.074803e-32\\\\\n",
       "\\end{tabular}\n"
      ],
      "text/markdown": [
       "\n",
       "A matrix: 2 × 4 of type dbl\n",
       "\n",
       "| <!--/--> | Estimate | Std. Error | t value | Pr(&gt;|t|) |\n",
       "|---|---|---|---|---|\n",
       "| (Intercept) | 14.846660 | 0.07614292 | 194.98412 | 0.000000e+00 |\n",
       "| treat | -8.497516 | 0.71202072 | -11.93437 | 1.074803e-32 |\n",
       "\n"
      ],
      "text/plain": [
       "            Estimate  Std. Error t value   Pr(>|t|)    \n",
       "(Intercept) 14.846660 0.07614292 194.98412 0.000000e+00\n",
       "treat       -8.497516 0.71202072 -11.93437 1.074803e-32"
      ]
     },
     "metadata": {},
     "output_type": "display_data"
    }
   ],
   "source": [
    "model <- lm(re78 ~ treat, data = data)\n",
    "\n",
    "summary(model)$coefficients"
   ]
  },
  {
   "cell_type": "markdown",
   "metadata": {},
   "source": [
    "Unlike the controlled experiment, this result tells us that participation in the National Supported Work Demonstration Job Training Program reduces real earnings by $8 498 on average; this shows the clear bias due to the lack of a proper control group. "
   ]
  },
  {
   "cell_type": "markdown",
   "metadata": {},
   "source": [
    "2.4 Using DML"
   ]
  },
  {
   "cell_type": "markdown",
   "metadata": {},
   "source": [
    "DoubleML is an easy to use tool for DML. It's usage is pretty straight-forward and can be easily implemented by reading the [documentation](https://docs.doubleml.org/stable/intro/intro.html)"
   ]
  },
  {
   "cell_type": "code",
   "execution_count": 62,
   "metadata": {
    "vscode": {
     "languageId": "r"
    }
   },
   "outputs": [],
   "source": [
    "# install.packages(\"DoubleML\")"
   ]
  },
  {
   "cell_type": "code",
   "execution_count": 71,
   "metadata": {
    "vscode": {
     "languageId": "r"
    }
   },
   "outputs": [],
   "source": [
    "X = names(data)[names(data) != \"re78\" & names(data) != \"treat\"]"
   ]
  },
  {
   "cell_type": "code",
   "execution_count": 72,
   "metadata": {
    "vscode": {
     "languageId": "r"
    }
   },
   "outputs": [
    {
     "name": "stdout",
     "output_type": "stream",
     "text": [
      "================= DoubleMLData Object ==================\n",
      "\n",
      "\n",
      "------------------ Data summary      ------------------\n",
      "Outcome variable: re78\n",
      "Treatment variable(s): treat\n",
      "Covariates: age, educ, black, hisp, marr, nodegree, re74, re75, agesq, agecube, educsq, u74, u75, interaction1, re74sq, re75sq\n",
      "Instrument(s): \n",
      "No. Observations: 16177\n"
     ]
    }
   ],
   "source": [
    "# pip install -U DoubleML\n",
    "library(DoubleML)\n",
    "\n",
    "dml_data = DoubleMLData$new(data2,\n",
    "                            y_col = 're78',\n",
    "                            d_cols = 'treat',\n",
    "                            x_cols = X)\n",
    "print(dml_data)"
   ]
  },
  {
   "cell_type": "markdown",
   "metadata": {},
   "source": [
    "We will implement the learners saw in class: OLS, Lasso, Random trees and Random Forest"
   ]
  },
  {
   "cell_type": "code",
   "execution_count": 80,
   "metadata": {
    "vscode": {
     "languageId": "r"
    }
   },
   "outputs": [],
   "source": [
    "# install.packages(\"mlr3\")\n",
    "# install.packages(\"mlr3learners\")\n",
    "# install.packages(\"ranger\")"
   ]
  },
  {
   "cell_type": "code",
   "execution_count": 81,
   "metadata": {
    "vscode": {
     "languageId": "r"
    }
   },
   "outputs": [],
   "source": [
    "library(mlr3)\n",
    "library(mlr3learners)\n",
    "lgr::get_logger(\"mlr3\")$set_threshold(\"warn\")\n",
    "\n",
    "\n",
    "l_OLS = lrn(\"regr.lm\")\n",
    "l_lasso = lrn(\"regr.cv_glmnet\", s=\"lambda.min\")\n",
    "l_RT = lrn(\"regr.ranger\", num.trees=1)\n",
    "l_RF = lrn(\"regr.ranger\", num.trees=500)\n"
   ]
  },
  {
   "cell_type": "code",
   "execution_count": 89,
   "metadata": {
    "vscode": {
     "languageId": "r"
    }
   },
   "outputs": [],
   "source": [
    "DML_ols = DoubleMLPLR$new(dml_data, l_OLS, l_OLS)\n",
    "DML_ols$fit()"
   ]
  },
  {
   "cell_type": "code",
   "execution_count": 91,
   "metadata": {
    "vscode": {
     "languageId": "r"
    }
   },
   "outputs": [],
   "source": [
    "DML_lasso = DoubleMLPLR$new(dml_data, l_lasso, l_lasso)\n",
    "DML_lasso$fit()"
   ]
  },
  {
   "cell_type": "code",
   "execution_count": 97,
   "metadata": {
    "vscode": {
     "languageId": "r"
    }
   },
   "outputs": [],
   "source": [
    "DML_RT = DoubleMLPLR$new(dml_data, l_RT, l_RT)\n",
    "DML_RT$fit()"
   ]
  },
  {
   "cell_type": "code",
   "execution_count": 98,
   "metadata": {
    "vscode": {
     "languageId": "r"
    }
   },
   "outputs": [],
   "source": [
    "DML_RF = DoubleMLPLR$new(dml_data, l_RF, l_RF)\n",
    "DML_RF$fit()"
   ]
  },
  {
   "cell_type": "code",
   "execution_count": 94,
   "metadata": {
    "vscode": {
     "languageId": "r"
    }
   },
   "outputs": [
    {
     "name": "stdout",
     "output_type": "stream",
     "text": [
      "================= DoubleMLPLR Object ==================\n",
      "\n",
      "\n",
      "------------------ Data summary      ------------------\n",
      "Outcome variable: re78\n",
      "Treatment variable(s): treat\n",
      "Covariates: age, educ, black, hisp, marr, nodegree, re74, re75, agesq, agecube, educsq, u74, u75, interaction1, re74sq, re75sq\n",
      "Instrument(s): \n",
      "No. Observations: 16177\n",
      "\n",
      "------------------ Score & algorithm ------------------\n",
      "Score function: partialling out\n",
      "DML algorithm: dml2\n",
      "\n",
      "------------------ Machine learner   ------------------\n",
      "ml_l: regr.lm\n",
      "ml_m: regr.lm\n",
      "\n",
      "------------------ Resampling        ------------------\n",
      "No. folds: 5\n",
      "No. repeated sample splits: 1\n",
      "Apply cross-fitting: TRUE\n",
      "\n",
      "------------------ Fit summary       ------------------\n",
      " Estimates and significance testing of the effect of target variables\n",
      "      Estimate. Std. Error t value Pr(>|t|)  \n",
      "treat    1.5636     0.6265   2.496   0.0126 *\n",
      "---\n",
      "Signif. codes:  0 '***' 0.001 '**' 0.01 '*' 0.05 '.' 0.1 ' ' 1\n",
      "\n",
      "\n"
     ]
    }
   ],
   "source": [
    "print(DML_ols)"
   ]
  },
  {
   "cell_type": "code",
   "execution_count": 95,
   "metadata": {
    "vscode": {
     "languageId": "r"
    }
   },
   "outputs": [
    {
     "name": "stdout",
     "output_type": "stream",
     "text": [
      "================= DoubleMLPLR Object ==================\n",
      "\n",
      "\n",
      "------------------ Data summary      ------------------\n",
      "Outcome variable: re78\n",
      "Treatment variable(s): treat\n",
      "Covariates: age, educ, black, hisp, marr, nodegree, re74, re75, agesq, agecube, educsq, u74, u75, interaction1, re74sq, re75sq\n",
      "Instrument(s): \n",
      "No. Observations: 16177\n",
      "\n",
      "------------------ Score & algorithm ------------------\n",
      "Score function: partialling out\n",
      "DML algorithm: dml2\n",
      "\n",
      "------------------ Machine learner   ------------------\n",
      "ml_l: regr.cv_glmnet\n",
      "ml_m: regr.cv_glmnet\n",
      "\n",
      "------------------ Resampling        ------------------\n",
      "No. folds: 5\n",
      "No. repeated sample splits: 1\n",
      "Apply cross-fitting: TRUE\n",
      "\n",
      "------------------ Fit summary       ------------------\n",
      " Estimates and significance testing of the effect of target variables\n",
      "      Estimate. Std. Error t value Pr(>|t|)  \n",
      "treat    1.4840     0.6272   2.366    0.018 *\n",
      "---\n",
      "Signif. codes:  0 '***' 0.001 '**' 0.01 '*' 0.05 '.' 0.1 ' ' 1\n",
      "\n",
      "\n"
     ]
    }
   ],
   "source": [
    "print(DML_lasso)"
   ]
  },
  {
   "cell_type": "code",
   "execution_count": 99,
   "metadata": {
    "vscode": {
     "languageId": "r"
    }
   },
   "outputs": [
    {
     "name": "stdout",
     "output_type": "stream",
     "text": [
      "================= DoubleMLPLR Object ==================\n",
      "\n",
      "\n",
      "------------------ Data summary      ------------------\n",
      "Outcome variable: re78\n",
      "Treatment variable(s): treat\n",
      "Covariates: age, educ, black, hisp, marr, nodegree, re74, re75, agesq, agecube, educsq, u74, u75, interaction1, re74sq, re75sq\n",
      "Instrument(s): \n",
      "No. Observations: 16177\n",
      "\n",
      "------------------ Score & algorithm ------------------\n",
      "Score function: partialling out\n",
      "DML algorithm: dml2\n",
      "\n",
      "------------------ Machine learner   ------------------\n",
      "ml_l: regr.ranger\n",
      "ml_m: regr.ranger\n",
      "\n",
      "------------------ Resampling        ------------------\n",
      "No. folds: 5\n",
      "No. repeated sample splits: 1\n",
      "Apply cross-fitting: TRUE\n",
      "\n",
      "------------------ Fit summary       ------------------\n",
      " Estimates and significance testing of the effect of target variables\n",
      "      Estimate. Std. Error t value Pr(>|t|)  \n",
      "treat    1.4596     0.6507   2.243   0.0249 *\n",
      "---\n",
      "Signif. codes:  0 '***' 0.001 '**' 0.01 '*' 0.05 '.' 0.1 ' ' 1\n",
      "\n",
      "\n"
     ]
    }
   ],
   "source": [
    "print(DML_RT)"
   ]
  },
  {
   "cell_type": "code",
   "execution_count": 100,
   "metadata": {
    "vscode": {
     "languageId": "r"
    }
   },
   "outputs": [
    {
     "name": "stdout",
     "output_type": "stream",
     "text": [
      "================= DoubleMLPLR Object ==================\n",
      "\n",
      "\n",
      "------------------ Data summary      ------------------\n",
      "Outcome variable: re78\n",
      "Treatment variable(s): treat\n",
      "Covariates: age, educ, black, hisp, marr, nodegree, re74, re75, agesq, agecube, educsq, u74, u75, interaction1, re74sq, re75sq\n",
      "Instrument(s): \n",
      "No. Observations: 16177\n",
      "\n",
      "------------------ Score & algorithm ------------------\n",
      "Score function: partialling out\n",
      "DML algorithm: dml2\n",
      "\n",
      "------------------ Machine learner   ------------------\n",
      "ml_l: regr.ranger\n",
      "ml_m: regr.ranger\n",
      "\n",
      "------------------ Resampling        ------------------\n",
      "No. folds: 5\n",
      "No. repeated sample splits: 1\n",
      "Apply cross-fitting: TRUE\n",
      "\n",
      "------------------ Fit summary       ------------------\n",
      " Estimates and significance testing of the effect of target variables\n",
      "      Estimate. Std. Error t value Pr(>|t|)\n",
      "treat    1.0123     0.6928   1.461    0.144\n",
      "\n",
      "\n"
     ]
    }
   ],
   "source": [
    "print(DML_RF)"
   ]
  }
 ],
 "metadata": {
  "kernelspec": {
   "display_name": "R",
   "language": "R",
   "name": "ir"
  },
  "language_info": {
   "codemirror_mode": "r",
   "file_extension": ".r",
   "mimetype": "text/x-r-source",
   "name": "R",
   "pygments_lexer": "r",
   "version": "4.3.1"
  }
 },
 "nbformat": 4,
 "nbformat_minor": 2
}
